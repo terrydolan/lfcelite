{
 "cells": [
  {
   "cell_type": "markdown",
   "metadata": {},
   "source": [
    "# LFC Data Analysis: The Elite Strikers"
   ]
  },
  {
   "cell_type": "markdown",
   "metadata": {},
   "source": [
    "See Terry's blog [LFC: The Elite Strikers](http://terrydolan.blogspot.co.uk/2015/07/lfc-the-elite-strikers.html) for a discussion of of the data analysis."
   ]
  },
  {
   "cell_type": "markdown",
   "metadata": {},
   "source": [
    "This notebook analyses Liverpool FC's elite strikers data from 1962-1963 to 2014-2015. An elite striker is defined as a player who scored 20 or more league goals in a season. I've started the analysis at 1962 as this was when Bill Shankly returned Liverpool to the top flight of English football. The analysis uses [IPython Notebook](http://ipython.org/notebook.html), [python](https://www.python.org/), [pandas](http://pandas.pydata.org/) and [matplotlib](http://matplotlib.org/) to explore the data. "
   ]
  },
  {
   "cell_type": "markdown",
   "metadata": {},
   "source": [
    "#### Notebook Change Log"
   ]
  },
  {
   "cell_type": "code",
   "execution_count": 1,
   "metadata": {
    "collapsed": false
   },
   "outputs": [
    {
     "data": {
      "text/html": [
       "<! left align the change log table in next cell >\n",
       "<style>\n",
       "table {float:left}\n",
       "</style>"
      ],
      "text/plain": [
       "<IPython.core.display.HTML object>"
      ]
     },
     "metadata": {},
     "output_type": "display_data"
    }
   ],
   "source": [
    "%%html\n",
    "<! left align the change log table in next cell >\n",
    "<style>\n",
    "table {float:left}\n",
    "</style>"
   ]
  },
  {
   "cell_type": "markdown",
   "metadata": {},
   "source": [
    "| Date          | Change Description |\n",
    "| :------------ | :----------------- |\n",
    "| 23rd July 2015 | Initial baseline |"
   ]
  },
  {
   "cell_type": "markdown",
   "metadata": {},
   "source": [
    "## Set-up"
   ]
  },
  {
   "cell_type": "markdown",
   "metadata": {},
   "source": [
    "Import the modules needed for the analysis."
   ]
  },
  {
   "cell_type": "code",
   "execution_count": 2,
   "metadata": {
    "collapsed": true
   },
   "outputs": [],
   "source": [
    "import pandas as pd\n",
    "import matplotlib as mpl\n",
    "import matplotlib.pyplot as plt\n",
    "import numpy as np\n",
    "import sys\n",
    "import collections\n",
    "from datetime import datetime\n",
    "from __future__ import division\n",
    "\n",
    "# enable inline plotting\n",
    "%matplotlib inline"
   ]
  },
  {
   "cell_type": "markdown",
   "metadata": {},
   "source": [
    "Print version numbers."
   ]
  },
  {
   "cell_type": "code",
   "execution_count": 3,
   "metadata": {
    "collapsed": false
   },
   "outputs": [
    {
     "name": "stdout",
     "output_type": "stream",
     "text": [
      "python version: 2.7.8 |Anaconda 2.3.0 (64-bit)| (default, Jul  2 2014, 15:12:11) [MSC v.1500 64 bit (AMD64)]\n",
      "pandas version: 0.16.2\n",
      "matplotlib version: 1.4.3\n",
      "numpy version: 1.9.2\n"
     ]
    }
   ],
   "source": [
    "print 'python version: {}'.format(sys.version)\n",
    "print 'pandas version: {}'.format(pd.__version__)\n",
    "print 'matplotlib version: {}'.format(mpl.__version__)\n",
    "print 'numpy version: {}'.format(np.__version__)"
   ]
  },
  {
   "cell_type": "markdown",
   "metadata": {},
   "source": [
    "## Load the LFC data into a dataframes and munge"
   ]
  },
  {
   "cell_type": "markdown",
   "metadata": {
    "collapsed": true
   },
   "source": [
    "#### Create dataframe of scorers in top level seasons"
   ]
  },
  {
   "cell_type": "code",
   "execution_count": 4,
   "metadata": {
    "collapsed": false
   },
   "outputs": [
    {
     "data": {
      "text/plain": [
       "(1398, 3)"
      ]
     },
     "execution_count": 4,
     "metadata": {},
     "output_type": "execute_result"
    }
   ],
   "source": [
    "LFC_SCORERS_CSV_FILE = 'data\\lfc_scorers_1892-1893_2014-2015.csv'\n",
    "dflfc_scorers = pd.read_csv(LFC_SCORERS_CSV_FILE)\n",
    "\n",
    "# sort by season, then league goals\n",
    "dflfc_scorers = dflfc_scorers.sort(['season', 'league'], ascending=([False, False]))\n",
    "dflfc_scorers.shape"
   ]
  },
  {
   "cell_type": "code",
   "execution_count": 5,
   "metadata": {
    "collapsed": false
   },
   "outputs": [
    {
     "data": {
      "text/html": [
       "<div>\n",
       "<table border=\"1\" class=\"dataframe\">\n",
       "  <thead>\n",
       "    <tr style=\"text-align: right;\">\n",
       "      <th></th>\n",
       "      <th>season</th>\n",
       "      <th>player</th>\n",
       "      <th>league</th>\n",
       "    </tr>\n",
       "  </thead>\n",
       "  <tbody>\n",
       "    <tr>\n",
       "      <th>1382</th>\n",
       "      <td>2014-2015</td>\n",
       "      <td>Steven Gerrard</td>\n",
       "      <td>9</td>\n",
       "    </tr>\n",
       "    <tr>\n",
       "      <th>1383</th>\n",
       "      <td>2014-2015</td>\n",
       "      <td>Raheem Sterling</td>\n",
       "      <td>7</td>\n",
       "    </tr>\n",
       "    <tr>\n",
       "      <th>1385</th>\n",
       "      <td>2014-2015</td>\n",
       "      <td>Jordan Henderson</td>\n",
       "      <td>6</td>\n",
       "    </tr>\n",
       "    <tr>\n",
       "      <th>1384</th>\n",
       "      <td>2014-2015</td>\n",
       "      <td>Philippe Coutinho</td>\n",
       "      <td>5</td>\n",
       "    </tr>\n",
       "    <tr>\n",
       "      <th>1386</th>\n",
       "      <td>2014-2015</td>\n",
       "      <td>Adam Lallana</td>\n",
       "      <td>5</td>\n",
       "    </tr>\n",
       "  </tbody>\n",
       "</table>\n",
       "</div>"
      ],
      "text/plain": [
       "         season             player  league\n",
       "1382  2014-2015     Steven Gerrard       9\n",
       "1383  2014-2015    Raheem Sterling       7\n",
       "1385  2014-2015   Jordan Henderson       6\n",
       "1384  2014-2015  Philippe Coutinho       5\n",
       "1386  2014-2015       Adam Lallana       5"
      ]
     },
     "execution_count": 5,
     "metadata": {},
     "output_type": "execute_result"
    }
   ],
   "source": [
    "dflfc_scorers.head()"
   ]
  },
  {
   "cell_type": "code",
   "execution_count": 6,
   "metadata": {
    "collapsed": false
   },
   "outputs": [
    {
     "data": {
      "text/html": [
       "<div>\n",
       "<table border=\"1\" class=\"dataframe\">\n",
       "  <thead>\n",
       "    <tr style=\"text-align: right;\">\n",
       "      <th></th>\n",
       "      <th>season</th>\n",
       "      <th>player</th>\n",
       "      <th>league</th>\n",
       "    </tr>\n",
       "  </thead>\n",
       "  <tbody>\n",
       "    <tr>\n",
       "      <th>5</th>\n",
       "      <td>1892-1893</td>\n",
       "      <td>Jonathan Cameron</td>\n",
       "      <td>4</td>\n",
       "    </tr>\n",
       "    <tr>\n",
       "      <th>6</th>\n",
       "      <td>1892-1893</td>\n",
       "      <td>Jim McBride</td>\n",
       "      <td>4</td>\n",
       "    </tr>\n",
       "    <tr>\n",
       "      <th>7</th>\n",
       "      <td>1892-1893</td>\n",
       "      <td>Hugh McQueen</td>\n",
       "      <td>3</td>\n",
       "    </tr>\n",
       "    <tr>\n",
       "      <th>9</th>\n",
       "      <td>1892-1893</td>\n",
       "      <td>Joe McQue</td>\n",
       "      <td>2</td>\n",
       "    </tr>\n",
       "    <tr>\n",
       "      <th>8</th>\n",
       "      <td>1892-1893</td>\n",
       "      <td>Own goals</td>\n",
       "      <td>1</td>\n",
       "    </tr>\n",
       "  </tbody>\n",
       "</table>\n",
       "</div>"
      ],
      "text/plain": [
       "      season            player  league\n",
       "5  1892-1893  Jonathan Cameron       4\n",
       "6  1892-1893       Jim McBride       4\n",
       "7  1892-1893      Hugh McQueen       3\n",
       "9  1892-1893         Joe McQue       2\n",
       "8  1892-1893         Own goals       1"
      ]
     },
     "execution_count": 6,
     "metadata": {},
     "output_type": "execute_result"
    }
   ],
   "source": [
    "dflfc_scorers.tail()"
   ]
  },
  {
   "cell_type": "code",
   "execution_count": 7,
   "metadata": {
    "collapsed": false
   },
   "outputs": [
    {
     "data": {
      "text/html": [
       "<div>\n",
       "<table border=\"1\" class=\"dataframe\">\n",
       "  <thead>\n",
       "    <tr style=\"text-align: right;\">\n",
       "      <th></th>\n",
       "      <th>season</th>\n",
       "      <th>player</th>\n",
       "      <th>league</th>\n",
       "    </tr>\n",
       "  </thead>\n",
       "  <tbody>\n",
       "    <tr>\n",
       "      <th>1388</th>\n",
       "      <td>2014-2015</td>\n",
       "      <td>Own goals</td>\n",
       "      <td>4</td>\n",
       "    </tr>\n",
       "    <tr>\n",
       "      <th>1374</th>\n",
       "      <td>2013-2014</td>\n",
       "      <td>Own goals</td>\n",
       "      <td>5</td>\n",
       "    </tr>\n",
       "    <tr>\n",
       "      <th>1356</th>\n",
       "      <td>2012-2013</td>\n",
       "      <td>Own goals</td>\n",
       "      <td>4</td>\n",
       "    </tr>\n",
       "    <tr>\n",
       "      <th>1343</th>\n",
       "      <td>2011-2012</td>\n",
       "      <td>Own goals</td>\n",
       "      <td>5</td>\n",
       "    </tr>\n",
       "    <tr>\n",
       "      <th>1334</th>\n",
       "      <td>2010-2011</td>\n",
       "      <td>Own goals</td>\n",
       "      <td>1</td>\n",
       "    </tr>\n",
       "  </tbody>\n",
       "</table>\n",
       "</div>"
      ],
      "text/plain": [
       "         season     player  league\n",
       "1388  2014-2015  Own goals       4\n",
       "1374  2013-2014  Own goals       5\n",
       "1356  2012-2013  Own goals       4\n",
       "1343  2011-2012  Own goals       5\n",
       "1334  2010-2011  Own goals       1"
      ]
     },
     "execution_count": 7,
     "metadata": {},
     "output_type": "execute_result"
    }
   ],
   "source": [
    "# note that scorers includes own goals\n",
    "dflfc_scorers[dflfc_scorers.player == 'Own goals'].head()"
   ]
  },
  {
   "cell_type": "raw",
   "metadata": {},
   "source": [
    "Filter out seasons that LFC weren't in top level"
   ]
  },
  {
   "cell_type": "code",
   "execution_count": 8,
   "metadata": {
    "collapsed": false
   },
   "outputs": [
    {
     "data": {
      "text/plain": [
       "(1250, 3)"
      ]
     },
     "execution_count": 8,
     "metadata": {},
     "output_type": "execute_result"
    }
   ],
   "source": [
    "# note: war years already excluded\n",
    "LANCS_YRS = ['1892-1893']\n",
    "SECOND_DIV_YRS = ['1893-1894', '1895-1896', '1904-1905', '1961-1962', \n",
    "                  '1954-1955', '1955-1956', '1956-1957', '1957-1958', \n",
    "                  '1958-1959', '1959-1960', '1960-1961']\n",
    "\n",
    "NOT_TOP_LEVEL_YRS = LANCS_YRS + SECOND_DIV_YRS\n",
    "dflfc_scorers_tl = dflfc_scorers[~dflfc_scorers.season.isin(NOT_TOP_LEVEL_YRS)].copy()\n",
    "dflfc_scorers_tl.shape"
   ]
  },
  {
   "cell_type": "code",
   "execution_count": 9,
   "metadata": {
    "collapsed": false
   },
   "outputs": [
    {
     "name": "stdout",
     "output_type": "stream",
     "text": [
      "num seasons is 100\n"
     ]
    }
   ],
   "source": [
    "## check number of seasons aligns with http://www.lfchistory.net/Stats/LeagueOverall.aspx\n",
    "## expect 100 total\n",
    "print 'num seasons is {}'.format(len(dflfc_scorers_tl.season.unique()))"
   ]
  },
  {
   "cell_type": "code",
   "execution_count": 10,
   "metadata": {
    "collapsed": false
   },
   "outputs": [
    {
     "data": {
      "text/html": [
       "<div>\n",
       "<table border=\"1\" class=\"dataframe\">\n",
       "  <thead>\n",
       "    <tr style=\"text-align: right;\">\n",
       "      <th></th>\n",
       "      <th>league</th>\n",
       "    </tr>\n",
       "    <tr>\n",
       "      <th>season</th>\n",
       "      <th></th>\n",
       "    </tr>\n",
       "  </thead>\n",
       "  <tbody>\n",
       "    <tr>\n",
       "      <th>2013-2014</th>\n",
       "      <td>101</td>\n",
       "    </tr>\n",
       "  </tbody>\n",
       "</table>\n",
       "</div>"
      ],
      "text/plain": [
       "           league\n",
       "season           \n",
       "2013-2014     101"
      ]
     },
     "execution_count": 10,
     "metadata": {},
     "output_type": "execute_result"
    }
   ],
   "source": [
    "# show most league goals in a season in top level\n",
    "# cross-check with http://en.wikipedia.org/wiki/List_of_Liverpool_F.C._records_and_statistics#Goalscorers\n",
    "# expect 101 in 2013-14\n",
    "dflfc_scorers_tl[['season', 'league']].groupby(['season']).sum().sort('league', ascending=False).head(1)"
   ]
  },
  {
   "cell_type": "code",
   "execution_count": 11,
   "metadata": {
    "collapsed": false
   },
   "outputs": [
    {
     "data": {
      "text/plain": [
       "(1181, 3)"
      ]
     },
     "execution_count": 11,
     "metadata": {},
     "output_type": "execute_result"
    }
   ],
   "source": [
    "# remove OG\n",
    "dflfc_scorers_tl = dflfc_scorers_tl[dflfc_scorers_tl.player != 'Own goals']\n",
    "dflfc_scorers_tl.shape"
   ]
  },
  {
   "cell_type": "code",
   "execution_count": 12,
   "metadata": {
    "collapsed": false
   },
   "outputs": [
    {
     "data": {
      "text/html": [
       "<div>\n",
       "<table border=\"1\" class=\"dataframe\">\n",
       "  <thead>\n",
       "    <tr style=\"text-align: right;\">\n",
       "      <th></th>\n",
       "      <th>season</th>\n",
       "      <th>player</th>\n",
       "      <th>league</th>\n",
       "    </tr>\n",
       "  </thead>\n",
       "  <tbody>\n",
       "    <tr>\n",
       "      <th>1369</th>\n",
       "      <td>2013-2014</td>\n",
       "      <td>Luis Suarez</td>\n",
       "      <td>31</td>\n",
       "    </tr>\n",
       "    <tr>\n",
       "      <th>1370</th>\n",
       "      <td>2013-2014</td>\n",
       "      <td>Daniel Sturridge</td>\n",
       "      <td>21</td>\n",
       "    </tr>\n",
       "    <tr>\n",
       "      <th>1371</th>\n",
       "      <td>2013-2014</td>\n",
       "      <td>Steven Gerrard</td>\n",
       "      <td>13</td>\n",
       "    </tr>\n",
       "    <tr>\n",
       "      <th>1372</th>\n",
       "      <td>2013-2014</td>\n",
       "      <td>Raheem Sterling</td>\n",
       "      <td>9</td>\n",
       "    </tr>\n",
       "    <tr>\n",
       "      <th>1373</th>\n",
       "      <td>2013-2014</td>\n",
       "      <td>Martin Skrtel</td>\n",
       "      <td>7</td>\n",
       "    </tr>\n",
       "    <tr>\n",
       "      <th>1375</th>\n",
       "      <td>2013-2014</td>\n",
       "      <td>Philippe Coutinho</td>\n",
       "      <td>5</td>\n",
       "    </tr>\n",
       "    <tr>\n",
       "      <th>1376</th>\n",
       "      <td>2013-2014</td>\n",
       "      <td>Jordan Henderson</td>\n",
       "      <td>4</td>\n",
       "    </tr>\n",
       "    <tr>\n",
       "      <th>1378</th>\n",
       "      <td>2013-2014</td>\n",
       "      <td>Daniel Agger</td>\n",
       "      <td>2</td>\n",
       "    </tr>\n",
       "    <tr>\n",
       "      <th>1377</th>\n",
       "      <td>2013-2014</td>\n",
       "      <td>Victor Moses</td>\n",
       "      <td>1</td>\n",
       "    </tr>\n",
       "    <tr>\n",
       "      <th>1379</th>\n",
       "      <td>2013-2014</td>\n",
       "      <td>Joe Allen</td>\n",
       "      <td>1</td>\n",
       "    </tr>\n",
       "  </tbody>\n",
       "</table>\n",
       "</div>"
      ],
      "text/plain": [
       "         season             player  league\n",
       "1369  2013-2014        Luis Suarez      31\n",
       "1370  2013-2014   Daniel Sturridge      21\n",
       "1371  2013-2014     Steven Gerrard      13\n",
       "1372  2013-2014    Raheem Sterling       9\n",
       "1373  2013-2014      Martin Skrtel       7\n",
       "1375  2013-2014  Philippe Coutinho       5\n",
       "1376  2013-2014   Jordan Henderson       4\n",
       "1378  2013-2014       Daniel Agger       2\n",
       "1377  2013-2014       Victor Moses       1\n",
       "1379  2013-2014          Joe Allen       1"
      ]
     },
     "execution_count": 12,
     "metadata": {},
     "output_type": "execute_result"
    }
   ],
   "source": [
    "# check 2013-14\n",
    "dflfc_scorers_tl[dflfc_scorers_tl.season == '2013-2014'].head(10)"
   ]
  },
  {
   "cell_type": "markdown",
   "metadata": {},
   "source": [
    "#### Create dataframe of squads giving age of each player"
   ]
  },
  {
   "cell_type": "code",
   "execution_count": 13,
   "metadata": {
    "collapsed": false
   },
   "outputs": [
    {
     "data": {
      "text/plain": [
       "(2902, 3)"
      ]
     },
     "execution_count": 13,
     "metadata": {},
     "output_type": "execute_result"
    }
   ],
   "source": [
    "LFC_SQUADS_CSV_FILE = 'data/lfc_squads_1892-1893_2014-2015.csv'\n",
    "dflfc_squads = pd.read_csv(LFC_SQUADS_CSV_FILE)\n",
    "dflfc_squads.shape"
   ]
  },
  {
   "cell_type": "code",
   "execution_count": 14,
   "metadata": {
    "collapsed": false
   },
   "outputs": [
    {
     "data": {
      "text/html": [
       "<div>\n",
       "<table border=\"1\" class=\"dataframe\">\n",
       "  <thead>\n",
       "    <tr style=\"text-align: right;\">\n",
       "      <th></th>\n",
       "      <th>season</th>\n",
       "      <th>player</th>\n",
       "      <th>position</th>\n",
       "    </tr>\n",
       "  </thead>\n",
       "  <tbody>\n",
       "    <tr>\n",
       "      <th>0</th>\n",
       "      <td>1892-1893</td>\n",
       "      <td>Sydney Ross</td>\n",
       "      <td>Goalkeeper</td>\n",
       "    </tr>\n",
       "    <tr>\n",
       "      <th>1</th>\n",
       "      <td>1892-1893</td>\n",
       "      <td>Billy McOwen</td>\n",
       "      <td>Goalkeeper</td>\n",
       "    </tr>\n",
       "    <tr>\n",
       "      <th>2</th>\n",
       "      <td>1892-1893</td>\n",
       "      <td>Jim McBride</td>\n",
       "      <td>Defender</td>\n",
       "    </tr>\n",
       "    <tr>\n",
       "      <th>3</th>\n",
       "      <td>1892-1893</td>\n",
       "      <td>John McCartney</td>\n",
       "      <td>Defender</td>\n",
       "    </tr>\n",
       "    <tr>\n",
       "      <th>4</th>\n",
       "      <td>1892-1893</td>\n",
       "      <td>Andrew Hannah</td>\n",
       "      <td>Defender</td>\n",
       "    </tr>\n",
       "  </tbody>\n",
       "</table>\n",
       "</div>"
      ],
      "text/plain": [
       "      season          player    position\n",
       "0  1892-1893     Sydney Ross  Goalkeeper\n",
       "1  1892-1893    Billy McOwen  Goalkeeper\n",
       "2  1892-1893     Jim McBride    Defender\n",
       "3  1892-1893  John McCartney    Defender\n",
       "4  1892-1893   Andrew Hannah    Defender"
      ]
     },
     "execution_count": 14,
     "metadata": {},
     "output_type": "execute_result"
    }
   ],
   "source": [
    "dflfc_squads.head()"
   ]
  },
  {
   "cell_type": "code",
   "execution_count": 15,
   "metadata": {
    "collapsed": false
   },
   "outputs": [
    {
     "data": {
      "text/html": [
       "<div>\n",
       "<table border=\"1\" class=\"dataframe\">\n",
       "  <thead>\n",
       "    <tr style=\"text-align: right;\">\n",
       "      <th></th>\n",
       "      <th>season</th>\n",
       "      <th>player</th>\n",
       "      <th>position</th>\n",
       "    </tr>\n",
       "  </thead>\n",
       "  <tbody>\n",
       "    <tr>\n",
       "      <th>2897</th>\n",
       "      <td>2014-2015</td>\n",
       "      <td>Kristoffer Peterson</td>\n",
       "      <td>Striker</td>\n",
       "    </tr>\n",
       "    <tr>\n",
       "      <th>2898</th>\n",
       "      <td>2014-2015</td>\n",
       "      <td>Suso</td>\n",
       "      <td>Striker</td>\n",
       "    </tr>\n",
       "    <tr>\n",
       "      <th>2899</th>\n",
       "      <td>2014-2015</td>\n",
       "      <td>Mario Balotelli</td>\n",
       "      <td>Striker</td>\n",
       "    </tr>\n",
       "    <tr>\n",
       "      <th>2900</th>\n",
       "      <td>2014-2015</td>\n",
       "      <td>Fabio Borini</td>\n",
       "      <td>Striker</td>\n",
       "    </tr>\n",
       "    <tr>\n",
       "      <th>2901</th>\n",
       "      <td>2014-2015</td>\n",
       "      <td>Jerome Sinclair</td>\n",
       "      <td>Striker</td>\n",
       "    </tr>\n",
       "  </tbody>\n",
       "</table>\n",
       "</div>"
      ],
      "text/plain": [
       "         season               player position\n",
       "2897  2014-2015  Kristoffer Peterson  Striker\n",
       "2898  2014-2015                 Suso  Striker\n",
       "2899  2014-2015      Mario Balotelli  Striker\n",
       "2900  2014-2015         Fabio Borini  Striker\n",
       "2901  2014-2015      Jerome Sinclair  Striker"
      ]
     },
     "execution_count": 15,
     "metadata": {},
     "output_type": "execute_result"
    }
   ],
   "source": [
    "dflfc_squads.tail()"
   ]
  },
  {
   "cell_type": "markdown",
   "metadata": {},
   "source": [
    "#### Create dataframe of league tables"
   ]
  },
  {
   "cell_type": "code",
   "execution_count": 16,
   "metadata": {
    "collapsed": false
   },
   "outputs": [
    {
     "data": {
      "text/plain": [
       "(112, 18)"
      ]
     },
     "execution_count": 16,
     "metadata": {},
     "output_type": "execute_result"
    }
   ],
   "source": [
    "LFC_LEAGUE_CSV_FILE = 'data/lfc_league_1892-1893_2014-2015.csv'\n",
    "dflfc_league = pd.read_csv(LFC_LEAGUE_CSV_FILE)\n",
    "dflfc_league.shape"
   ]
  },
  {
   "cell_type": "code",
   "execution_count": 17,
   "metadata": {
    "collapsed": false
   },
   "outputs": [
    {
     "data": {
      "text/html": [
       "<div>\n",
       "<table border=\"1\" class=\"dataframe\">\n",
       "  <thead>\n",
       "    <tr style=\"text-align: right;\">\n",
       "      <th></th>\n",
       "      <th>Season</th>\n",
       "      <th>League</th>\n",
       "      <th>Pos</th>\n",
       "      <th>PLD</th>\n",
       "      <th>HW</th>\n",
       "      <th>HD</th>\n",
       "      <th>HL</th>\n",
       "      <th>HF</th>\n",
       "      <th>HA</th>\n",
       "      <th>AW</th>\n",
       "      <th>AD</th>\n",
       "      <th>AL</th>\n",
       "      <th>AF</th>\n",
       "      <th>AA</th>\n",
       "      <th>PTS</th>\n",
       "      <th>GF</th>\n",
       "      <th>GA</th>\n",
       "      <th>GD</th>\n",
       "    </tr>\n",
       "  </thead>\n",
       "  <tbody>\n",
       "    <tr>\n",
       "      <th>0</th>\n",
       "      <td>1893-1894</td>\n",
       "      <td>2nd Division</td>\n",
       "      <td>1</td>\n",
       "      <td>28</td>\n",
       "      <td>14</td>\n",
       "      <td>0</td>\n",
       "      <td>0</td>\n",
       "      <td>46</td>\n",
       "      <td>6</td>\n",
       "      <td>8</td>\n",
       "      <td>6</td>\n",
       "      <td>0</td>\n",
       "      <td>31</td>\n",
       "      <td>12</td>\n",
       "      <td>50</td>\n",
       "      <td>77</td>\n",
       "      <td>18</td>\n",
       "      <td>59</td>\n",
       "    </tr>\n",
       "    <tr>\n",
       "      <th>1</th>\n",
       "      <td>1894-1895</td>\n",
       "      <td>1st Division</td>\n",
       "      <td>15</td>\n",
       "      <td>30</td>\n",
       "      <td>6</td>\n",
       "      <td>4</td>\n",
       "      <td>5</td>\n",
       "      <td>38</td>\n",
       "      <td>28</td>\n",
       "      <td>1</td>\n",
       "      <td>4</td>\n",
       "      <td>10</td>\n",
       "      <td>13</td>\n",
       "      <td>42</td>\n",
       "      <td>22</td>\n",
       "      <td>51</td>\n",
       "      <td>70</td>\n",
       "      <td>-19</td>\n",
       "    </tr>\n",
       "    <tr>\n",
       "      <th>2</th>\n",
       "      <td>1895-1896</td>\n",
       "      <td>2nd Division</td>\n",
       "      <td>1</td>\n",
       "      <td>30</td>\n",
       "      <td>14</td>\n",
       "      <td>1</td>\n",
       "      <td>0</td>\n",
       "      <td>65</td>\n",
       "      <td>11</td>\n",
       "      <td>8</td>\n",
       "      <td>1</td>\n",
       "      <td>6</td>\n",
       "      <td>41</td>\n",
       "      <td>21</td>\n",
       "      <td>46</td>\n",
       "      <td>106</td>\n",
       "      <td>32</td>\n",
       "      <td>74</td>\n",
       "    </tr>\n",
       "    <tr>\n",
       "      <th>3</th>\n",
       "      <td>1896-1897</td>\n",
       "      <td>1st Division</td>\n",
       "      <td>5</td>\n",
       "      <td>30</td>\n",
       "      <td>7</td>\n",
       "      <td>6</td>\n",
       "      <td>2</td>\n",
       "      <td>25</td>\n",
       "      <td>10</td>\n",
       "      <td>5</td>\n",
       "      <td>3</td>\n",
       "      <td>7</td>\n",
       "      <td>21</td>\n",
       "      <td>28</td>\n",
       "      <td>33</td>\n",
       "      <td>46</td>\n",
       "      <td>38</td>\n",
       "      <td>8</td>\n",
       "    </tr>\n",
       "    <tr>\n",
       "      <th>4</th>\n",
       "      <td>1897-1898</td>\n",
       "      <td>1st Division</td>\n",
       "      <td>9</td>\n",
       "      <td>30</td>\n",
       "      <td>7</td>\n",
       "      <td>4</td>\n",
       "      <td>4</td>\n",
       "      <td>27</td>\n",
       "      <td>16</td>\n",
       "      <td>4</td>\n",
       "      <td>2</td>\n",
       "      <td>9</td>\n",
       "      <td>21</td>\n",
       "      <td>29</td>\n",
       "      <td>28</td>\n",
       "      <td>48</td>\n",
       "      <td>45</td>\n",
       "      <td>3</td>\n",
       "    </tr>\n",
       "  </tbody>\n",
       "</table>\n",
       "</div>"
      ],
      "text/plain": [
       "      Season        League  Pos  PLD  HW  HD  HL  HF  HA  AW  AD  AL  AF  AA  \\\n",
       "0  1893-1894  2nd Division    1   28  14   0   0  46   6   8   6   0  31  12   \n",
       "1  1894-1895  1st Division   15   30   6   4   5  38  28   1   4  10  13  42   \n",
       "2  1895-1896  2nd Division    1   30  14   1   0  65  11   8   1   6  41  21   \n",
       "3  1896-1897  1st Division    5   30   7   6   2  25  10   5   3   7  21  28   \n",
       "4  1897-1898  1st Division    9   30   7   4   4  27  16   4   2   9  21  29   \n",
       "\n",
       "   PTS   GF  GA  GD  \n",
       "0   50   77  18  59  \n",
       "1   22   51  70 -19  \n",
       "2   46  106  32  74  \n",
       "3   33   46  38   8  \n",
       "4   28   48  45   3  "
      ]
     },
     "execution_count": 17,
     "metadata": {},
     "output_type": "execute_result"
    }
   ],
   "source": [
    "dflfc_league.head()"
   ]
  },
  {
   "cell_type": "code",
   "execution_count": 18,
   "metadata": {
    "collapsed": false
   },
   "outputs": [
    {
     "data": {
      "text/html": [
       "<div>\n",
       "<table border=\"1\" class=\"dataframe\">\n",
       "  <thead>\n",
       "    <tr style=\"text-align: right;\">\n",
       "      <th></th>\n",
       "      <th>Season</th>\n",
       "      <th>League</th>\n",
       "      <th>Pos</th>\n",
       "      <th>PLD</th>\n",
       "      <th>HW</th>\n",
       "      <th>HD</th>\n",
       "      <th>HL</th>\n",
       "      <th>HF</th>\n",
       "      <th>HA</th>\n",
       "      <th>AW</th>\n",
       "      <th>AD</th>\n",
       "      <th>AL</th>\n",
       "      <th>AF</th>\n",
       "      <th>AA</th>\n",
       "      <th>PTS</th>\n",
       "      <th>GF</th>\n",
       "      <th>GA</th>\n",
       "      <th>GD</th>\n",
       "    </tr>\n",
       "  </thead>\n",
       "  <tbody>\n",
       "    <tr>\n",
       "      <th>107</th>\n",
       "      <td>2010-2011</td>\n",
       "      <td>Premier League</td>\n",
       "      <td>6</td>\n",
       "      <td>38</td>\n",
       "      <td>12</td>\n",
       "      <td>4</td>\n",
       "      <td>3</td>\n",
       "      <td>37</td>\n",
       "      <td>14</td>\n",
       "      <td>5</td>\n",
       "      <td>3</td>\n",
       "      <td>11</td>\n",
       "      <td>22</td>\n",
       "      <td>30</td>\n",
       "      <td>58</td>\n",
       "      <td>59</td>\n",
       "      <td>44</td>\n",
       "      <td>15</td>\n",
       "    </tr>\n",
       "    <tr>\n",
       "      <th>108</th>\n",
       "      <td>2011-2012</td>\n",
       "      <td>Premier League</td>\n",
       "      <td>8</td>\n",
       "      <td>38</td>\n",
       "      <td>6</td>\n",
       "      <td>9</td>\n",
       "      <td>4</td>\n",
       "      <td>24</td>\n",
       "      <td>16</td>\n",
       "      <td>8</td>\n",
       "      <td>1</td>\n",
       "      <td>10</td>\n",
       "      <td>23</td>\n",
       "      <td>24</td>\n",
       "      <td>52</td>\n",
       "      <td>47</td>\n",
       "      <td>40</td>\n",
       "      <td>7</td>\n",
       "    </tr>\n",
       "    <tr>\n",
       "      <th>109</th>\n",
       "      <td>2012-2013</td>\n",
       "      <td>Premier League</td>\n",
       "      <td>7</td>\n",
       "      <td>38</td>\n",
       "      <td>9</td>\n",
       "      <td>6</td>\n",
       "      <td>4</td>\n",
       "      <td>33</td>\n",
       "      <td>16</td>\n",
       "      <td>7</td>\n",
       "      <td>7</td>\n",
       "      <td>5</td>\n",
       "      <td>38</td>\n",
       "      <td>27</td>\n",
       "      <td>61</td>\n",
       "      <td>71</td>\n",
       "      <td>43</td>\n",
       "      <td>28</td>\n",
       "    </tr>\n",
       "    <tr>\n",
       "      <th>110</th>\n",
       "      <td>2013-2014</td>\n",
       "      <td>Premier League</td>\n",
       "      <td>2</td>\n",
       "      <td>38</td>\n",
       "      <td>16</td>\n",
       "      <td>1</td>\n",
       "      <td>2</td>\n",
       "      <td>53</td>\n",
       "      <td>18</td>\n",
       "      <td>10</td>\n",
       "      <td>5</td>\n",
       "      <td>4</td>\n",
       "      <td>48</td>\n",
       "      <td>32</td>\n",
       "      <td>84</td>\n",
       "      <td>101</td>\n",
       "      <td>50</td>\n",
       "      <td>51</td>\n",
       "    </tr>\n",
       "    <tr>\n",
       "      <th>111</th>\n",
       "      <td>2014-2015</td>\n",
       "      <td>Premier League</td>\n",
       "      <td>6</td>\n",
       "      <td>38</td>\n",
       "      <td>10</td>\n",
       "      <td>5</td>\n",
       "      <td>4</td>\n",
       "      <td>30</td>\n",
       "      <td>20</td>\n",
       "      <td>8</td>\n",
       "      <td>3</td>\n",
       "      <td>8</td>\n",
       "      <td>22</td>\n",
       "      <td>28</td>\n",
       "      <td>62</td>\n",
       "      <td>52</td>\n",
       "      <td>48</td>\n",
       "      <td>4</td>\n",
       "    </tr>\n",
       "  </tbody>\n",
       "</table>\n",
       "</div>"
      ],
      "text/plain": [
       "        Season          League  Pos  PLD  HW  HD  HL  HF  HA  AW  AD  AL  AF  \\\n",
       "107  2010-2011  Premier League    6   38  12   4   3  37  14   5   3  11  22   \n",
       "108  2011-2012  Premier League    8   38   6   9   4  24  16   8   1  10  23   \n",
       "109  2012-2013  Premier League    7   38   9   6   4  33  16   7   7   5  38   \n",
       "110  2013-2014  Premier League    2   38  16   1   2  53  18  10   5   4  48   \n",
       "111  2014-2015  Premier League    6   38  10   5   4  30  20   8   3   8  22   \n",
       "\n",
       "     AA  PTS   GF  GA  GD  \n",
       "107  30   58   59  44  15  \n",
       "108  24   52   47  40   7  \n",
       "109  27   61   71  43  28  \n",
       "110  32   84  101  50  51  \n",
       "111  28   62   52  48   4  "
      ]
     },
     "execution_count": 18,
     "metadata": {},
     "output_type": "execute_result"
    }
   ],
   "source": [
    "dflfc_league.tail()"
   ]
  },
  {
   "cell_type": "markdown",
   "metadata": {},
   "source": [
    "#### Create merged dataframe, combining scorers with position"
   ]
  },
  {
   "cell_type": "code",
   "execution_count": 19,
   "metadata": {
    "collapsed": false
   },
   "outputs": [
    {
     "data": {
      "text/plain": [
       "(1181, 4)"
      ]
     },
     "execution_count": 19,
     "metadata": {},
     "output_type": "execute_result"
    }
   ],
   "source": [
    "dflfc_scorers_tl_pos = pd.DataFrame.merge(dflfc_scorers_tl, dflfc_squads)\n",
    "dflfc_scorers_tl_pos.shape"
   ]
  },
  {
   "cell_type": "code",
   "execution_count": 20,
   "metadata": {
    "collapsed": false
   },
   "outputs": [
    {
     "data": {
      "text/html": [
       "<div>\n",
       "<table border=\"1\" class=\"dataframe\">\n",
       "  <thead>\n",
       "    <tr style=\"text-align: right;\">\n",
       "      <th></th>\n",
       "      <th>season</th>\n",
       "      <th>player</th>\n",
       "      <th>league</th>\n",
       "      <th>position</th>\n",
       "    </tr>\n",
       "  </thead>\n",
       "  <tbody>\n",
       "    <tr>\n",
       "      <th>0</th>\n",
       "      <td>2014-2015</td>\n",
       "      <td>Steven Gerrard</td>\n",
       "      <td>9</td>\n",
       "      <td>Midfielder</td>\n",
       "    </tr>\n",
       "    <tr>\n",
       "      <th>1</th>\n",
       "      <td>2014-2015</td>\n",
       "      <td>Raheem Sterling</td>\n",
       "      <td>7</td>\n",
       "      <td>Midfielder</td>\n",
       "    </tr>\n",
       "    <tr>\n",
       "      <th>2</th>\n",
       "      <td>2014-2015</td>\n",
       "      <td>Jordan Henderson</td>\n",
       "      <td>6</td>\n",
       "      <td>Midfielder</td>\n",
       "    </tr>\n",
       "    <tr>\n",
       "      <th>3</th>\n",
       "      <td>2014-2015</td>\n",
       "      <td>Philippe Coutinho</td>\n",
       "      <td>5</td>\n",
       "      <td>Midfielder</td>\n",
       "    </tr>\n",
       "    <tr>\n",
       "      <th>4</th>\n",
       "      <td>2014-2015</td>\n",
       "      <td>Adam Lallana</td>\n",
       "      <td>5</td>\n",
       "      <td>Midfielder</td>\n",
       "    </tr>\n",
       "  </tbody>\n",
       "</table>\n",
       "</div>"
      ],
      "text/plain": [
       "      season             player  league    position\n",
       "0  2014-2015     Steven Gerrard       9  Midfielder\n",
       "1  2014-2015    Raheem Sterling       7  Midfielder\n",
       "2  2014-2015   Jordan Henderson       6  Midfielder\n",
       "3  2014-2015  Philippe Coutinho       5  Midfielder\n",
       "4  2014-2015       Adam Lallana       5  Midfielder"
      ]
     },
     "execution_count": 20,
     "metadata": {},
     "output_type": "execute_result"
    }
   ],
   "source": [
    "dflfc_scorers_tl_pos.head()"
   ]
  },
  {
   "cell_type": "code",
   "execution_count": 21,
   "metadata": {
    "collapsed": false
   },
   "outputs": [
    {
     "data": {
      "text/html": [
       "<div>\n",
       "<table border=\"1\" class=\"dataframe\">\n",
       "  <thead>\n",
       "    <tr style=\"text-align: right;\">\n",
       "      <th></th>\n",
       "      <th>season</th>\n",
       "      <th>player</th>\n",
       "      <th>league</th>\n",
       "      <th>position</th>\n",
       "    </tr>\n",
       "  </thead>\n",
       "  <tbody>\n",
       "    <tr>\n",
       "      <th>1176</th>\n",
       "      <td>1894-1895</td>\n",
       "      <td>Frank Becton</td>\n",
       "      <td>4</td>\n",
       "      <td>Striker</td>\n",
       "    </tr>\n",
       "    <tr>\n",
       "      <th>1177</th>\n",
       "      <td>1894-1895</td>\n",
       "      <td>Neil Kerr</td>\n",
       "      <td>3</td>\n",
       "      <td>Midfielder</td>\n",
       "    </tr>\n",
       "    <tr>\n",
       "      <th>1178</th>\n",
       "      <td>1894-1895</td>\n",
       "      <td>Hugh McQueen</td>\n",
       "      <td>2</td>\n",
       "      <td>Midfielder</td>\n",
       "    </tr>\n",
       "    <tr>\n",
       "      <th>1179</th>\n",
       "      <td>1894-1895</td>\n",
       "      <td>Joe McQue</td>\n",
       "      <td>1</td>\n",
       "      <td>Defender</td>\n",
       "    </tr>\n",
       "    <tr>\n",
       "      <th>1180</th>\n",
       "      <td>1894-1895</td>\n",
       "      <td>Patrick Gordon</td>\n",
       "      <td>1</td>\n",
       "      <td>Midfielder</td>\n",
       "    </tr>\n",
       "  </tbody>\n",
       "</table>\n",
       "</div>"
      ],
      "text/plain": [
       "         season          player  league    position\n",
       "1176  1894-1895    Frank Becton       4     Striker\n",
       "1177  1894-1895       Neil Kerr       3  Midfielder\n",
       "1178  1894-1895    Hugh McQueen       2  Midfielder\n",
       "1179  1894-1895       Joe McQue       1    Defender\n",
       "1180  1894-1895  Patrick Gordon       1  Midfielder"
      ]
     },
     "execution_count": 21,
     "metadata": {},
     "output_type": "execute_result"
    }
   ],
   "source": [
    "dflfc_scorers_tl_pos.tail()"
   ]
  },
  {
   "cell_type": "markdown",
   "metadata": {},
   "source": [
    "#### Create dataframe of players giving birthdate of each player"
   ]
  },
  {
   "cell_type": "code",
   "execution_count": 22,
   "metadata": {
    "collapsed": false
   },
   "outputs": [
    {
     "data": {
      "text/plain": [
       "(748, 3)"
      ]
     },
     "execution_count": 22,
     "metadata": {},
     "output_type": "execute_result"
    }
   ],
   "source": [
    "LFC_PLAYERS_CSV_FILE = 'data\\lfc_players_july2015_upd.csv' \n",
    "dflfc_players = pd.read_csv(LFC_PLAYERS_CSV_FILE, parse_dates=['birthdate'])\n",
    "dflfc_players.shape"
   ]
  },
  {
   "cell_type": "code",
   "execution_count": 23,
   "metadata": {
    "collapsed": false
   },
   "outputs": [
    {
     "data": {
      "text/html": [
       "<div>\n",
       "<table border=\"1\" class=\"dataframe\">\n",
       "  <thead>\n",
       "    <tr style=\"text-align: right;\">\n",
       "      <th></th>\n",
       "      <th>player</th>\n",
       "      <th>birthdate</th>\n",
       "      <th>country</th>\n",
       "    </tr>\n",
       "  </thead>\n",
       "  <tbody>\n",
       "    <tr>\n",
       "      <th>0</th>\n",
       "      <td>Gary Ablett</td>\n",
       "      <td>1965-11-19</td>\n",
       "      <td>England</td>\n",
       "    </tr>\n",
       "    <tr>\n",
       "      <th>1</th>\n",
       "      <td>Alan A'Court</td>\n",
       "      <td>1934-09-30</td>\n",
       "      <td>England</td>\n",
       "    </tr>\n",
       "    <tr>\n",
       "      <th>2</th>\n",
       "      <td>Charlie Adam</td>\n",
       "      <td>1985-12-10</td>\n",
       "      <td>Scotland</td>\n",
       "    </tr>\n",
       "    <tr>\n",
       "      <th>3</th>\n",
       "      <td>Daniel Agger</td>\n",
       "      <td>1984-12-12</td>\n",
       "      <td>Denmark</td>\n",
       "    </tr>\n",
       "    <tr>\n",
       "      <th>4</th>\n",
       "      <td>Andrew Aitken</td>\n",
       "      <td>1909-08-25</td>\n",
       "      <td>England</td>\n",
       "    </tr>\n",
       "  </tbody>\n",
       "</table>\n",
       "</div>"
      ],
      "text/plain": [
       "          player  birthdate   country\n",
       "0    Gary Ablett 1965-11-19   England\n",
       "1   Alan A'Court 1934-09-30   England\n",
       "2   Charlie Adam 1985-12-10  Scotland\n",
       "3   Daniel Agger 1984-12-12   Denmark\n",
       "4  Andrew Aitken 1909-08-25   England"
      ]
     },
     "execution_count": 23,
     "metadata": {},
     "output_type": "execute_result"
    }
   ],
   "source": [
    "dflfc_players.head()"
   ]
  },
  {
   "cell_type": "code",
   "execution_count": 24,
   "metadata": {
    "collapsed": false
   },
   "outputs": [
    {
     "data": {
      "text/html": [
       "<div>\n",
       "<table border=\"1\" class=\"dataframe\">\n",
       "  <thead>\n",
       "    <tr style=\"text-align: right;\">\n",
       "      <th></th>\n",
       "      <th>player</th>\n",
       "      <th>birthdate</th>\n",
       "      <th>country</th>\n",
       "    </tr>\n",
       "  </thead>\n",
       "  <tbody>\n",
       "    <tr>\n",
       "      <th>743</th>\n",
       "      <td>Ron Yeats</td>\n",
       "      <td>1937-11-15</td>\n",
       "      <td>Scotland</td>\n",
       "    </tr>\n",
       "    <tr>\n",
       "      <th>744</th>\n",
       "      <td>Samed Yesil</td>\n",
       "      <td>1994-05-25</td>\n",
       "      <td>Germany</td>\n",
       "    </tr>\n",
       "    <tr>\n",
       "      <th>745</th>\n",
       "      <td>Tommy Younger</td>\n",
       "      <td>1930-04-10</td>\n",
       "      <td>Scotland</td>\n",
       "    </tr>\n",
       "    <tr>\n",
       "      <th>746</th>\n",
       "      <td>Bolo Zenden</td>\n",
       "      <td>1976-08-15</td>\n",
       "      <td>Netherlands</td>\n",
       "    </tr>\n",
       "    <tr>\n",
       "      <th>747</th>\n",
       "      <td>Christian Ziege</td>\n",
       "      <td>1972-02-01</td>\n",
       "      <td>Germany</td>\n",
       "    </tr>\n",
       "  </tbody>\n",
       "</table>\n",
       "</div>"
      ],
      "text/plain": [
       "              player  birthdate      country\n",
       "743        Ron Yeats 1937-11-15     Scotland\n",
       "744      Samed Yesil 1994-05-25      Germany\n",
       "745    Tommy Younger 1930-04-10     Scotland\n",
       "746      Bolo Zenden 1976-08-15  Netherlands\n",
       "747  Christian Ziege 1972-02-01      Germany"
      ]
     },
     "execution_count": 24,
     "metadata": {},
     "output_type": "execute_result"
    }
   ],
   "source": [
    "dflfc_players.tail()"
   ]
  },
  {
   "cell_type": "markdown",
   "metadata": {},
   "source": [
    "##### Add players age to the dataframe"
   ]
  },
  {
   "cell_type": "code",
   "execution_count": 25,
   "metadata": {
    "collapsed": true
   },
   "outputs": [],
   "source": [
    "def age_at_season(row):\n",
    "    \"\"\"Return player's age at mid-point of season, assumed to be 1st Jan.\n",
    "    \n",
    "        row.player -> player's name\n",
    "        row.season -> season\n",
    "        \n",
    "        uses dflfc_players to look-up birthdate, keyed on player\n",
    "         - return average age if player is missing from dflfc_players\n",
    "    \"\"\"\n",
    "    \n",
    "    AVERAGE_AGE = 26.5\n",
    "    \n",
    "    mid_point = '01 January {}'.format(row.season[-4:])\n",
    "    try:\n",
    "        dob = dflfc_players[dflfc_players.player == row.player].birthdate.values[0]\n",
    "    except:\n",
    "        # use average age if player's birthdate not available\n",
    "        print 'error: age not found for player {} in season {}, using average age {}'.format(row.player, \n",
    "                                                                                             row.season, \n",
    "                                                                                             AVERAGE_AGE)\n",
    "        return AVERAGE_AGE\n",
    "    return round((pd.Timestamp(mid_point) - dob).days/365.0, 1)"
   ]
  },
  {
   "cell_type": "code",
   "execution_count": 26,
   "metadata": {
    "collapsed": false
   },
   "outputs": [
    {
     "name": "stdout",
     "output_type": "stream",
     "text": [
      "error: age not found for player William Walker in season 1897-1898, using average age 26.5\n"
     ]
    }
   ],
   "source": [
    "# add age column\n",
    "dflfc_scorers_tl_pos['age'] = dflfc_scorers_tl_pos.apply(lambda row: age_at_season(row), axis=1)"
   ]
  },
  {
   "cell_type": "code",
   "execution_count": 27,
   "metadata": {
    "collapsed": true
   },
   "outputs": [],
   "source": [
    "dflfc_scorers_tl_pos_age = dflfc_scorers_tl_pos.copy()"
   ]
  },
  {
   "cell_type": "code",
   "execution_count": 28,
   "metadata": {
    "collapsed": false
   },
   "outputs": [
    {
     "data": {
      "text/html": [
       "<div>\n",
       "<table border=\"1\" class=\"dataframe\">\n",
       "  <thead>\n",
       "    <tr style=\"text-align: right;\">\n",
       "      <th></th>\n",
       "      <th>season</th>\n",
       "      <th>player</th>\n",
       "      <th>league</th>\n",
       "      <th>position</th>\n",
       "      <th>age</th>\n",
       "    </tr>\n",
       "  </thead>\n",
       "  <tbody>\n",
       "    <tr>\n",
       "      <th>0</th>\n",
       "      <td>2014-2015</td>\n",
       "      <td>Steven Gerrard</td>\n",
       "      <td>9</td>\n",
       "      <td>Midfielder</td>\n",
       "      <td>34.6</td>\n",
       "    </tr>\n",
       "    <tr>\n",
       "      <th>1</th>\n",
       "      <td>2014-2015</td>\n",
       "      <td>Raheem Sterling</td>\n",
       "      <td>7</td>\n",
       "      <td>Midfielder</td>\n",
       "      <td>20.1</td>\n",
       "    </tr>\n",
       "    <tr>\n",
       "      <th>2</th>\n",
       "      <td>2014-2015</td>\n",
       "      <td>Jordan Henderson</td>\n",
       "      <td>6</td>\n",
       "      <td>Midfielder</td>\n",
       "      <td>24.6</td>\n",
       "    </tr>\n",
       "    <tr>\n",
       "      <th>3</th>\n",
       "      <td>2014-2015</td>\n",
       "      <td>Philippe Coutinho</td>\n",
       "      <td>5</td>\n",
       "      <td>Midfielder</td>\n",
       "      <td>22.6</td>\n",
       "    </tr>\n",
       "    <tr>\n",
       "      <th>4</th>\n",
       "      <td>2014-2015</td>\n",
       "      <td>Adam Lallana</td>\n",
       "      <td>5</td>\n",
       "      <td>Midfielder</td>\n",
       "      <td>26.7</td>\n",
       "    </tr>\n",
       "  </tbody>\n",
       "</table>\n",
       "</div>"
      ],
      "text/plain": [
       "      season             player  league    position   age\n",
       "0  2014-2015     Steven Gerrard       9  Midfielder  34.6\n",
       "1  2014-2015    Raheem Sterling       7  Midfielder  20.1\n",
       "2  2014-2015   Jordan Henderson       6  Midfielder  24.6\n",
       "3  2014-2015  Philippe Coutinho       5  Midfielder  22.6\n",
       "4  2014-2015       Adam Lallana       5  Midfielder  26.7"
      ]
     },
     "execution_count": 28,
     "metadata": {},
     "output_type": "execute_result"
    }
   ],
   "source": [
    "dflfc_scorers_tl_pos_age.head()"
   ]
  },
  {
   "cell_type": "markdown",
   "metadata": {},
   "source": [
    "## Analyse the data\n",
    "\n",
    "Ask a question and find the answer."
   ]
  },
  {
   "cell_type": "code",
   "execution_count": 29,
   "metadata": {
    "collapsed": false
   },
   "outputs": [
    {
     "data": {
      "text/plain": [
       "('1962-1963', '2014-2015', 53)"
      ]
     },
     "execution_count": 29,
     "metadata": {},
     "output_type": "execute_result"
    }
   ],
   "source": [
    "# check number of seasons in top flight between 1960 and 2014 (expect 53)\n",
    "tf = dflfc_scorers_tl_pos_age[(dflfc_scorers_tl_pos_age.season.str[0:4] >= '1960') &\n",
    "                             (dflfc_scorers_tl_pos_age.season.str[0:4] <= '2014')].season.unique()\n",
    "tf[-1], tf[0], len(tf)"
   ]
  },
  {
   "cell_type": "code",
   "execution_count": 30,
   "metadata": {
    "collapsed": false
   },
   "outputs": [
    {
     "data": {
      "text/html": [
       "<div>\n",
       "<table border=\"1\" class=\"dataframe\">\n",
       "  <thead>\n",
       "    <tr style=\"text-align: right;\">\n",
       "      <th></th>\n",
       "      <th>season</th>\n",
       "      <th>player</th>\n",
       "      <th>league</th>\n",
       "      <th>position</th>\n",
       "      <th>age</th>\n",
       "    </tr>\n",
       "  </thead>\n",
       "  <tbody>\n",
       "    <tr>\n",
       "      <th>0</th>\n",
       "      <td>1983-1984</td>\n",
       "      <td>Ian Rush</td>\n",
       "      <td>32</td>\n",
       "      <td>Striker</td>\n",
       "      <td>22.2</td>\n",
       "    </tr>\n",
       "    <tr>\n",
       "      <th>1</th>\n",
       "      <td>1963-1964</td>\n",
       "      <td>Roger Hunt</td>\n",
       "      <td>31</td>\n",
       "      <td>Striker</td>\n",
       "      <td>25.5</td>\n",
       "    </tr>\n",
       "    <tr>\n",
       "      <th>2</th>\n",
       "      <td>2013-2014</td>\n",
       "      <td>Luis Suarez</td>\n",
       "      <td>31</td>\n",
       "      <td>Striker</td>\n",
       "      <td>27.0</td>\n",
       "    </tr>\n",
       "    <tr>\n",
       "      <th>3</th>\n",
       "      <td>1986-1987</td>\n",
       "      <td>Ian Rush</td>\n",
       "      <td>30</td>\n",
       "      <td>Striker</td>\n",
       "      <td>25.2</td>\n",
       "    </tr>\n",
       "    <tr>\n",
       "      <th>4</th>\n",
       "      <td>1965-1966</td>\n",
       "      <td>Roger Hunt</td>\n",
       "      <td>29</td>\n",
       "      <td>Striker</td>\n",
       "      <td>27.5</td>\n",
       "    </tr>\n",
       "    <tr>\n",
       "      <th>5</th>\n",
       "      <td>1995-1996</td>\n",
       "      <td>Robbie Fowler</td>\n",
       "      <td>28</td>\n",
       "      <td>Striker</td>\n",
       "      <td>20.7</td>\n",
       "    </tr>\n",
       "    <tr>\n",
       "      <th>6</th>\n",
       "      <td>1987-1988</td>\n",
       "      <td>John Aldridge</td>\n",
       "      <td>26</td>\n",
       "      <td>Striker</td>\n",
       "      <td>29.3</td>\n",
       "    </tr>\n",
       "    <tr>\n",
       "      <th>7</th>\n",
       "      <td>1994-1995</td>\n",
       "      <td>Robbie Fowler</td>\n",
       "      <td>25</td>\n",
       "      <td>Striker</td>\n",
       "      <td>19.7</td>\n",
       "    </tr>\n",
       "    <tr>\n",
       "      <th>8</th>\n",
       "      <td>1964-1965</td>\n",
       "      <td>Roger Hunt</td>\n",
       "      <td>25</td>\n",
       "      <td>Striker</td>\n",
       "      <td>26.5</td>\n",
       "    </tr>\n",
       "    <tr>\n",
       "      <th>9</th>\n",
       "      <td>1967-1968</td>\n",
       "      <td>Roger Hunt</td>\n",
       "      <td>25</td>\n",
       "      <td>Striker</td>\n",
       "      <td>29.5</td>\n",
       "    </tr>\n",
       "    <tr>\n",
       "      <th>10</th>\n",
       "      <td>2007-2008</td>\n",
       "      <td>Fernando Torres</td>\n",
       "      <td>24</td>\n",
       "      <td>Striker</td>\n",
       "      <td>23.8</td>\n",
       "    </tr>\n",
       "    <tr>\n",
       "      <th>11</th>\n",
       "      <td>1982-1983</td>\n",
       "      <td>Ian Rush</td>\n",
       "      <td>24</td>\n",
       "      <td>Striker</td>\n",
       "      <td>21.2</td>\n",
       "    </tr>\n",
       "    <tr>\n",
       "      <th>12</th>\n",
       "      <td>1962-1963</td>\n",
       "      <td>Roger Hunt</td>\n",
       "      <td>24</td>\n",
       "      <td>Striker</td>\n",
       "      <td>24.5</td>\n",
       "    </tr>\n",
       "    <tr>\n",
       "      <th>13</th>\n",
       "      <td>2012-2013</td>\n",
       "      <td>Luis Suarez</td>\n",
       "      <td>23</td>\n",
       "      <td>Striker</td>\n",
       "      <td>26.0</td>\n",
       "    </tr>\n",
       "    <tr>\n",
       "      <th>14</th>\n",
       "      <td>1985-1986</td>\n",
       "      <td>Ian Rush</td>\n",
       "      <td>22</td>\n",
       "      <td>Striker</td>\n",
       "      <td>24.2</td>\n",
       "    </tr>\n",
       "    <tr>\n",
       "      <th>15</th>\n",
       "      <td>1989-1990</td>\n",
       "      <td>John Barnes</td>\n",
       "      <td>22</td>\n",
       "      <td>Striker</td>\n",
       "      <td>26.2</td>\n",
       "    </tr>\n",
       "    <tr>\n",
       "      <th>16</th>\n",
       "      <td>2013-2014</td>\n",
       "      <td>Daniel Sturridge</td>\n",
       "      <td>21</td>\n",
       "      <td>Striker</td>\n",
       "      <td>24.4</td>\n",
       "    </tr>\n",
       "    <tr>\n",
       "      <th>17</th>\n",
       "      <td>1979-1980</td>\n",
       "      <td>David Johnson</td>\n",
       "      <td>21</td>\n",
       "      <td>Striker</td>\n",
       "      <td>28.2</td>\n",
       "    </tr>\n",
       "    <tr>\n",
       "      <th>18</th>\n",
       "      <td>1978-1979</td>\n",
       "      <td>Kenny Dalglish</td>\n",
       "      <td>21</td>\n",
       "      <td>Striker</td>\n",
       "      <td>27.8</td>\n",
       "    </tr>\n",
       "    <tr>\n",
       "      <th>19</th>\n",
       "      <td>1988-1989</td>\n",
       "      <td>John Aldridge</td>\n",
       "      <td>21</td>\n",
       "      <td>Striker</td>\n",
       "      <td>30.3</td>\n",
       "    </tr>\n",
       "    <tr>\n",
       "      <th>20</th>\n",
       "      <td>1963-1964</td>\n",
       "      <td>Ian St John</td>\n",
       "      <td>21</td>\n",
       "      <td>Striker</td>\n",
       "      <td>25.6</td>\n",
       "    </tr>\n",
       "    <tr>\n",
       "      <th>21</th>\n",
       "      <td>1977-1978</td>\n",
       "      <td>Kenny Dalglish</td>\n",
       "      <td>20</td>\n",
       "      <td>Striker</td>\n",
       "      <td>26.8</td>\n",
       "    </tr>\n",
       "  </tbody>\n",
       "</table>\n",
       "</div>"
      ],
      "text/plain": [
       "       season            player  league position   age\n",
       "0   1983-1984          Ian Rush      32  Striker  22.2\n",
       "1   1963-1964        Roger Hunt      31  Striker  25.5\n",
       "2   2013-2014       Luis Suarez      31  Striker  27.0\n",
       "3   1986-1987          Ian Rush      30  Striker  25.2\n",
       "4   1965-1966        Roger Hunt      29  Striker  27.5\n",
       "5   1995-1996     Robbie Fowler      28  Striker  20.7\n",
       "6   1987-1988     John Aldridge      26  Striker  29.3\n",
       "7   1994-1995     Robbie Fowler      25  Striker  19.7\n",
       "8   1964-1965        Roger Hunt      25  Striker  26.5\n",
       "9   1967-1968        Roger Hunt      25  Striker  29.5\n",
       "10  2007-2008   Fernando Torres      24  Striker  23.8\n",
       "11  1982-1983          Ian Rush      24  Striker  21.2\n",
       "12  1962-1963        Roger Hunt      24  Striker  24.5\n",
       "13  2012-2013       Luis Suarez      23  Striker  26.0\n",
       "14  1985-1986          Ian Rush      22  Striker  24.2\n",
       "15  1989-1990       John Barnes      22  Striker  26.2\n",
       "16  2013-2014  Daniel Sturridge      21  Striker  24.4\n",
       "17  1979-1980     David Johnson      21  Striker  28.2\n",
       "18  1978-1979    Kenny Dalglish      21  Striker  27.8\n",
       "19  1988-1989     John Aldridge      21  Striker  30.3\n",
       "20  1963-1964       Ian St John      21  Striker  25.6\n",
       "21  1977-1978    Kenny Dalglish      20  Striker  26.8"
      ]
     },
     "execution_count": 30,
     "metadata": {},
     "output_type": "execute_result"
    }
   ],
   "source": [
    "# show modern scorers who scored >20, with age - aka elite strikers\n",
    "dflfc_elite = dflfc_scorers_tl_pos_age[(dflfc_scorers_tl_pos_age.season.str[0:4] >= '1962') & \n",
    "                                       (dflfc_scorers_tl_pos_age.league >= 20)].sort('league', ascending=False)\n",
    "dflfc_elite.reset_index(drop=True, inplace=True)\n",
    "dflfc_elite"
   ]
  },
  {
   "cell_type": "code",
   "execution_count": 31,
   "metadata": {
    "collapsed": false
   },
   "outputs": [
    {
     "data": {
      "text/html": [
       "<div>\n",
       "<table border=\"1\" class=\"dataframe\">\n",
       "  <thead>\n",
       "    <tr style=\"text-align: right;\">\n",
       "      <th></th>\n",
       "      <th>season</th>\n",
       "      <th>player</th>\n",
       "      <th>league</th>\n",
       "      <th>position</th>\n",
       "      <th>age</th>\n",
       "    </tr>\n",
       "  </thead>\n",
       "  <tbody>\n",
       "    <tr>\n",
       "      <th>159</th>\n",
       "      <td>2002-2003</td>\n",
       "      <td>Michael Owen</td>\n",
       "      <td>19</td>\n",
       "      <td>Striker</td>\n",
       "      <td>23.1</td>\n",
       "    </tr>\n",
       "    <tr>\n",
       "      <th>169</th>\n",
       "      <td>2001-2002</td>\n",
       "      <td>Michael Owen</td>\n",
       "      <td>19</td>\n",
       "      <td>Striker</td>\n",
       "      <td>22.1</td>\n",
       "    </tr>\n",
       "    <tr>\n",
       "      <th>648</th>\n",
       "      <td>1962-1963</td>\n",
       "      <td>Ian St John</td>\n",
       "      <td>19</td>\n",
       "      <td>Striker</td>\n",
       "      <td>24.6</td>\n",
       "    </tr>\n",
       "    <tr>\n",
       "      <th>68</th>\n",
       "      <td>2009-2010</td>\n",
       "      <td>Fernando Torres</td>\n",
       "      <td>18</td>\n",
       "      <td>Striker</td>\n",
       "      <td>25.8</td>\n",
       "    </tr>\n",
       "    <tr>\n",
       "      <th>210</th>\n",
       "      <td>1998-1999</td>\n",
       "      <td>Michael Owen</td>\n",
       "      <td>18</td>\n",
       "      <td>Striker</td>\n",
       "      <td>19.1</td>\n",
       "    </tr>\n",
       "    <tr>\n",
       "      <th>222</th>\n",
       "      <td>1997-1998</td>\n",
       "      <td>Michael Owen</td>\n",
       "      <td>18</td>\n",
       "      <td>Striker</td>\n",
       "      <td>18.1</td>\n",
       "    </tr>\n",
       "    <tr>\n",
       "      <th>233</th>\n",
       "      <td>1996-1997</td>\n",
       "      <td>Robbie Fowler</td>\n",
       "      <td>18</td>\n",
       "      <td>Striker</td>\n",
       "      <td>21.7</td>\n",
       "    </tr>\n",
       "    <tr>\n",
       "      <th>320</th>\n",
       "      <td>1989-1990</td>\n",
       "      <td>Ian Rush</td>\n",
       "      <td>18</td>\n",
       "      <td>Striker</td>\n",
       "      <td>28.2</td>\n",
       "    </tr>\n",
       "    <tr>\n",
       "      <th>376</th>\n",
       "      <td>1984-1985</td>\n",
       "      <td>John Wark</td>\n",
       "      <td>18</td>\n",
       "      <td>Midfielder</td>\n",
       "      <td>27.4</td>\n",
       "    </tr>\n",
       "    <tr>\n",
       "      <th>401</th>\n",
       "      <td>1982-1983</td>\n",
       "      <td>Kenny Dalglish</td>\n",
       "      <td>18</td>\n",
       "      <td>Midfielder</td>\n",
       "      <td>31.9</td>\n",
       "    </tr>\n",
       "  </tbody>\n",
       "</table>\n",
       "</div>"
      ],
      "text/plain": [
       "        season           player  league    position   age\n",
       "159  2002-2003     Michael Owen      19     Striker  23.1\n",
       "169  2001-2002     Michael Owen      19     Striker  22.1\n",
       "648  1962-1963      Ian St John      19     Striker  24.6\n",
       "68   2009-2010  Fernando Torres      18     Striker  25.8\n",
       "210  1998-1999     Michael Owen      18     Striker  19.1\n",
       "222  1997-1998     Michael Owen      18     Striker  18.1\n",
       "233  1996-1997    Robbie Fowler      18     Striker  21.7\n",
       "320  1989-1990         Ian Rush      18     Striker  28.2\n",
       "376  1984-1985        John Wark      18  Midfielder  27.4\n",
       "401  1982-1983   Kenny Dalglish      18  Midfielder  31.9"
      ]
     },
     "execution_count": 31,
     "metadata": {},
     "output_type": "execute_result"
    }
   ],
   "source": [
    "# show near misses - modern scorers who scored >=18 and <=19, with age\n",
    "dflfc_scorers_tl_pos_age[(dflfc_scorers_tl_pos_age.season.str[0:4] >= '1962') & \n",
    "                         (dflfc_scorers_tl_pos_age.league >= 18) &\n",
    "                         (dflfc_scorers_tl_pos_age.league <= 19)].sort('league', ascending=False)"
   ]
  },
  {
   "cell_type": "code",
   "execution_count": 32,
   "metadata": {
    "collapsed": false
   },
   "outputs": [
    {
     "data": {
      "text/html": [
       "<div>\n",
       "<table border=\"1\" class=\"dataframe\">\n",
       "  <thead>\n",
       "    <tr style=\"text-align: right;\">\n",
       "      <th></th>\n",
       "      <th>Season</th>\n",
       "      <th>League</th>\n",
       "      <th>Pos</th>\n",
       "      <th>PLD</th>\n",
       "    </tr>\n",
       "  </thead>\n",
       "  <tbody>\n",
       "    <tr>\n",
       "      <th>59</th>\n",
       "      <td>1962-1963</td>\n",
       "      <td>1st Division</td>\n",
       "      <td>8</td>\n",
       "      <td>42</td>\n",
       "    </tr>\n",
       "    <tr>\n",
       "      <th>60</th>\n",
       "      <td>1963-1964</td>\n",
       "      <td>1st Division</td>\n",
       "      <td>1</td>\n",
       "      <td>42</td>\n",
       "    </tr>\n",
       "    <tr>\n",
       "      <th>61</th>\n",
       "      <td>1964-1965</td>\n",
       "      <td>1st Division</td>\n",
       "      <td>7</td>\n",
       "      <td>42</td>\n",
       "    </tr>\n",
       "    <tr>\n",
       "      <th>62</th>\n",
       "      <td>1965-1966</td>\n",
       "      <td>1st Division</td>\n",
       "      <td>1</td>\n",
       "      <td>42</td>\n",
       "    </tr>\n",
       "    <tr>\n",
       "      <th>64</th>\n",
       "      <td>1967-1968</td>\n",
       "      <td>1st Division</td>\n",
       "      <td>3</td>\n",
       "      <td>42</td>\n",
       "    </tr>\n",
       "    <tr>\n",
       "      <th>74</th>\n",
       "      <td>1977-1978</td>\n",
       "      <td>1st Division</td>\n",
       "      <td>2</td>\n",
       "      <td>42</td>\n",
       "    </tr>\n",
       "    <tr>\n",
       "      <th>75</th>\n",
       "      <td>1978-1979</td>\n",
       "      <td>1st Division</td>\n",
       "      <td>1</td>\n",
       "      <td>42</td>\n",
       "    </tr>\n",
       "    <tr>\n",
       "      <th>76</th>\n",
       "      <td>1979-1980</td>\n",
       "      <td>1st Division</td>\n",
       "      <td>1</td>\n",
       "      <td>42</td>\n",
       "    </tr>\n",
       "    <tr>\n",
       "      <th>79</th>\n",
       "      <td>1982-1983</td>\n",
       "      <td>1st Division</td>\n",
       "      <td>1</td>\n",
       "      <td>42</td>\n",
       "    </tr>\n",
       "    <tr>\n",
       "      <th>80</th>\n",
       "      <td>1983-1984</td>\n",
       "      <td>1st Division</td>\n",
       "      <td>1</td>\n",
       "      <td>42</td>\n",
       "    </tr>\n",
       "    <tr>\n",
       "      <th>82</th>\n",
       "      <td>1985-1986</td>\n",
       "      <td>1st Division</td>\n",
       "      <td>1</td>\n",
       "      <td>42</td>\n",
       "    </tr>\n",
       "    <tr>\n",
       "      <th>83</th>\n",
       "      <td>1986-1987</td>\n",
       "      <td>1st Division</td>\n",
       "      <td>2</td>\n",
       "      <td>42</td>\n",
       "    </tr>\n",
       "    <tr>\n",
       "      <th>84</th>\n",
       "      <td>1987-1988</td>\n",
       "      <td>1st Division</td>\n",
       "      <td>1</td>\n",
       "      <td>40</td>\n",
       "    </tr>\n",
       "    <tr>\n",
       "      <th>85</th>\n",
       "      <td>1988-1989</td>\n",
       "      <td>1st Division</td>\n",
       "      <td>2</td>\n",
       "      <td>38</td>\n",
       "    </tr>\n",
       "    <tr>\n",
       "      <th>86</th>\n",
       "      <td>1989-1990</td>\n",
       "      <td>1st Division</td>\n",
       "      <td>1</td>\n",
       "      <td>38</td>\n",
       "    </tr>\n",
       "    <tr>\n",
       "      <th>91</th>\n",
       "      <td>1994-1995</td>\n",
       "      <td>Premier League</td>\n",
       "      <td>4</td>\n",
       "      <td>42</td>\n",
       "    </tr>\n",
       "    <tr>\n",
       "      <th>92</th>\n",
       "      <td>1995-1996</td>\n",
       "      <td>Premier League</td>\n",
       "      <td>3</td>\n",
       "      <td>38</td>\n",
       "    </tr>\n",
       "    <tr>\n",
       "      <th>104</th>\n",
       "      <td>2007-2008</td>\n",
       "      <td>Premier League</td>\n",
       "      <td>4</td>\n",
       "      <td>38</td>\n",
       "    </tr>\n",
       "    <tr>\n",
       "      <th>109</th>\n",
       "      <td>2012-2013</td>\n",
       "      <td>Premier League</td>\n",
       "      <td>7</td>\n",
       "      <td>38</td>\n",
       "    </tr>\n",
       "    <tr>\n",
       "      <th>110</th>\n",
       "      <td>2013-2014</td>\n",
       "      <td>Premier League</td>\n",
       "      <td>2</td>\n",
       "      <td>38</td>\n",
       "    </tr>\n",
       "  </tbody>\n",
       "</table>\n",
       "</div>"
      ],
      "text/plain": [
       "        Season          League  Pos  PLD\n",
       "59   1962-1963    1st Division    8   42\n",
       "60   1963-1964    1st Division    1   42\n",
       "61   1964-1965    1st Division    7   42\n",
       "62   1965-1966    1st Division    1   42\n",
       "64   1967-1968    1st Division    3   42\n",
       "74   1977-1978    1st Division    2   42\n",
       "75   1978-1979    1st Division    1   42\n",
       "76   1979-1980    1st Division    1   42\n",
       "79   1982-1983    1st Division    1   42\n",
       "80   1983-1984    1st Division    1   42\n",
       "82   1985-1986    1st Division    1   42\n",
       "83   1986-1987    1st Division    2   42\n",
       "84   1987-1988    1st Division    1   40\n",
       "85   1988-1989    1st Division    2   38\n",
       "86   1989-1990    1st Division    1   38\n",
       "91   1994-1995  Premier League    4   42\n",
       "92   1995-1996  Premier League    3   38\n",
       "104  2007-2008  Premier League    4   38\n",
       "109  2012-2013  Premier League    7   38\n",
       "110  2013-2014  Premier League    2   38"
      ]
     },
     "execution_count": 32,
     "metadata": {},
     "output_type": "execute_result"
    }
   ],
   "source": [
    "# show number of games played in seasons when strikers scored >20\n",
    "dflfc_league[['Season', 'League', 'Pos', 'PLD']][dflfc_league.Season.isin(dflfc_elite.season)]"
   ]
  },
  {
   "cell_type": "code",
   "execution_count": 33,
   "metadata": {
    "collapsed": false
   },
   "outputs": [
    {
     "data": {
      "text/html": [
       "<div>\n",
       "<table border=\"1\" class=\"dataframe\">\n",
       "  <thead>\n",
       "    <tr style=\"text-align: right;\">\n",
       "      <th></th>\n",
       "      <th>Tot</th>\n",
       "    </tr>\n",
       "    <tr>\n",
       "      <th>Player</th>\n",
       "      <th></th>\n",
       "    </tr>\n",
       "  </thead>\n",
       "  <tbody>\n",
       "    <tr>\n",
       "      <th>Roger Hunt</th>\n",
       "      <td>134</td>\n",
       "    </tr>\n",
       "    <tr>\n",
       "      <th>Ian Rush</th>\n",
       "      <td>108</td>\n",
       "    </tr>\n",
       "    <tr>\n",
       "      <th>Luis Suarez</th>\n",
       "      <td>54</td>\n",
       "    </tr>\n",
       "    <tr>\n",
       "      <th>Robbie Fowler</th>\n",
       "      <td>53</td>\n",
       "    </tr>\n",
       "    <tr>\n",
       "      <th>John Aldridge</th>\n",
       "      <td>47</td>\n",
       "    </tr>\n",
       "  </tbody>\n",
       "</table>\n",
       "</div>"
      ],
      "text/plain": [
       "               Tot\n",
       "Player            \n",
       "Roger Hunt     134\n",
       "Ian Rush       108\n",
       "Luis Suarez     54\n",
       "Robbie Fowler   53\n",
       "John Aldridge   47"
      ]
     },
     "execution_count": 33,
     "metadata": {},
     "output_type": "execute_result"
    }
   ],
   "source": [
    "# show strikers with total scored >20\n",
    "df_striker_tot = dflfc_elite[['player', 'league']].groupby('player').sum()\n",
    "df_striker_tot.rename(columns={'league': 'Tot'}, inplace=True)\n",
    "df_striker_tot.index.name = 'Player'\n",
    "df_striker_tot.sort('Tot', ascending=False).head()"
   ]
  },
  {
   "cell_type": "code",
   "execution_count": 34,
   "metadata": {
    "collapsed": false
   },
   "outputs": [
    {
     "data": {
      "text/plain": [
       "22"
      ]
     },
     "execution_count": 34,
     "metadata": {},
     "output_type": "execute_result"
    }
   ],
   "source": [
    "# show number of elite strikers who scored >20\n",
    "len(dflfc_elite)"
   ]
  },
  {
   "cell_type": "code",
   "execution_count": 35,
   "metadata": {
    "collapsed": false
   },
   "outputs": [
    {
     "name": "stdout",
     "output_type": "stream",
     "text": [
      "11\n",
      "['Ian Rush' 'Roger Hunt' 'Luis Suarez' 'Robbie Fowler' 'John Aldridge'\n",
      " 'Fernando Torres' 'John Barnes' 'Daniel Sturridge' 'David Johnson'\n",
      " 'Kenny Dalglish' 'Ian St John']\n"
     ]
    }
   ],
   "source": [
    "# show number of unique strikers who scored >20\n",
    "top20_lu = dflfc_elite.sort('league', ascending=False).player.unique()\n",
    "print len(top20_lu)\n",
    "print top20_lu"
   ]
  },
  {
   "cell_type": "code",
   "execution_count": 36,
   "metadata": {
    "collapsed": false
   },
   "outputs": [
    {
     "name": "stdout",
     "output_type": "stream",
     "text": [
      "Daniel Sturridge: 2013-2014 (21)\n",
      "Roger Hunt: 1963-1964 (31), 1965-1966 (29), 1964-1965 (25), 1967-1968 (25), 1962-1963 (24)\n",
      "Fernando Torres: 2007-2008 (24)\n",
      "Luis Suarez: 2013-2014 (31), 2012-2013 (23)\n",
      "John Barnes: 1989-1990 (22)\n",
      "Ian Rush: 1983-1984 (32), 1986-1987 (30), 1982-1983 (24), 1985-1986 (22)\n",
      "David Johnson: 1979-1980 (21)\n",
      "Kenny Dalglish: 1978-1979 (21), 1977-1978 (20)\n",
      "Robbie Fowler: 1995-1996 (28), 1994-1995 (25)\n",
      "John Aldridge: 1987-1988 (26), 1988-1989 (21)\n",
      "Ian St John: 1963-1964 (21)\n"
     ]
    }
   ],
   "source": [
    "# show number of unique scorers who scored >20 - pretty print\n",
    "player_d = collections.defaultdict(list)\n",
    "top20_l = dflfc_elite.sort('league', ascending=False).values\n",
    "for season, player, goals, position, age, in top20_l:\n",
    "    # season, player, goals, age\n",
    "    player_d[player].append('{} ({})'.format(season, goals))\n",
    "\n",
    "for k,v in player_d.iteritems():\n",
    "    print '{}: {}'.format(k, ', '.join(v))"
   ]
  },
  {
   "cell_type": "code",
   "execution_count": 37,
   "metadata": {
    "collapsed": false
   },
   "outputs": [
    {
     "data": {
      "text/html": [
       "<div>\n",
       "<table border=\"1\" class=\"dataframe\">\n",
       "  <thead>\n",
       "    <tr style=\"text-align: right;\">\n",
       "      <th></th>\n",
       "      <th>Times 20+ Achieved</th>\n",
       "      <th>Seasons in which player scored 20+ goals (with number of league goals scored)</th>\n",
       "    </tr>\n",
       "    <tr>\n",
       "      <th>Player</th>\n",
       "      <th></th>\n",
       "      <th></th>\n",
       "    </tr>\n",
       "  </thead>\n",
       "  <tbody>\n",
       "    <tr>\n",
       "      <th>Roger Hunt</th>\n",
       "      <td>5</td>\n",
       "      <td>1963-1964 (31), 1965-1966 (29), 1964-1965 (25), 1967-1968 (25), 1962-1963 (24)</td>\n",
       "    </tr>\n",
       "    <tr>\n",
       "      <th>Ian Rush</th>\n",
       "      <td>4</td>\n",
       "      <td>1983-1984 (32), 1986-1987 (30), 1982-1983 (24), 1985-1986 (22)</td>\n",
       "    </tr>\n",
       "    <tr>\n",
       "      <th>Luis Suarez</th>\n",
       "      <td>2</td>\n",
       "      <td>2013-2014 (31), 2012-2013 (23)</td>\n",
       "    </tr>\n",
       "    <tr>\n",
       "      <th>Robbie Fowler</th>\n",
       "      <td>2</td>\n",
       "      <td>1995-1996 (28), 1994-1995 (25)</td>\n",
       "    </tr>\n",
       "    <tr>\n",
       "      <th>John Aldridge</th>\n",
       "      <td>2</td>\n",
       "      <td>1987-1988 (26), 1988-1989 (21)</td>\n",
       "    </tr>\n",
       "    <tr>\n",
       "      <th>Kenny Dalglish</th>\n",
       "      <td>2</td>\n",
       "      <td>1978-1979 (21), 1977-1978 (20)</td>\n",
       "    </tr>\n",
       "    <tr>\n",
       "      <th>Fernando Torres</th>\n",
       "      <td>1</td>\n",
       "      <td>2007-2008 (24)</td>\n",
       "    </tr>\n",
       "    <tr>\n",
       "      <th>John Barnes</th>\n",
       "      <td>1</td>\n",
       "      <td>1989-1990 (22)</td>\n",
       "    </tr>\n",
       "    <tr>\n",
       "      <th>Daniel Sturridge</th>\n",
       "      <td>1</td>\n",
       "      <td>2013-2014 (21)</td>\n",
       "    </tr>\n",
       "    <tr>\n",
       "      <th>David Johnson</th>\n",
       "      <td>1</td>\n",
       "      <td>1979-1980 (21)</td>\n",
       "    </tr>\n",
       "    <tr>\n",
       "      <th>Ian St John</th>\n",
       "      <td>1</td>\n",
       "      <td>1963-1964 (21)</td>\n",
       "    </tr>\n",
       "  </tbody>\n",
       "</table>\n",
       "</div>"
      ],
      "text/plain": [
       "                  Times 20+ Achieved  \\\n",
       "Player                                 \n",
       "Roger Hunt        5                    \n",
       "Ian Rush          4                    \n",
       "Luis Suarez       2                    \n",
       "Robbie Fowler     2                    \n",
       "John Aldridge     2                    \n",
       "Kenny Dalglish    2                    \n",
       "Fernando Torres   1                    \n",
       "John Barnes       1                    \n",
       "Daniel Sturridge  1                    \n",
       "David Johnson     1                    \n",
       "Ian St John       1                    \n",
       "\n",
       "                   Seasons in which player scored 20+ goals (with number of league goals scored)  \n",
       "Player                                                                                            \n",
       "Roger Hunt        1963-1964 (31), 1965-1966 (29), 1964-1965 (25), 1967-1968 (25), 1962-1963 (24)  \n",
       "Ian Rush          1983-1984 (32), 1986-1987 (30), 1982-1983 (24), 1985-1986 (22)                  \n",
       "Luis Suarez       2013-2014 (31), 2012-2013 (23)                                                  \n",
       "Robbie Fowler     1995-1996 (28), 1994-1995 (25)                                                  \n",
       "John Aldridge     1987-1988 (26), 1988-1989 (21)                                                  \n",
       "Kenny Dalglish    1978-1979 (21), 1977-1978 (20)                                                  \n",
       "Fernando Torres   2007-2008 (24)                                                                  \n",
       "John Barnes       1989-1990 (22)                                                                  \n",
       "Daniel Sturridge  2013-2014 (21)                                                                  \n",
       "David Johnson     1979-1980 (21)                                                                  \n",
       "Ian St John       1963-1964 (21)                                                                  "
      ]
     },
     "execution_count": 37,
     "metadata": {},
     "output_type": "execute_result"
    }
   ],
   "source": [
    "# construct table (dataframe) to summarise the data\n",
    "\n",
    "# col 0 of dataframe is the list of season (goals) converted to a comma separated string\n",
    "df = pd.DataFrame.from_dict({k: ', '.join(v) for k,v in player_d.iteritems()}, orient='index')\n",
    "\n",
    "# col 1 is number of times player has scored 20+ (derived from number of brackets)\n",
    "df[1] = df[0].apply(lambda x: x.count('('))\n",
    "\n",
    "# change column order and rename\n",
    "df = df[[1, 0]]\n",
    "df.rename(columns={1: 'Times 20+ Achieved', \n",
    "                   0: 'Seasons in which player scored 20+ goals (with number of league goals scored)'}, inplace=True)\n",
    "df.index.name = 'Player'\n",
    "\n",
    "# add total (sum of goals in brackets)\n",
    "df = df.merge(df_striker_tot, left_index=True, right_index=True)\n",
    "\n",
    "# set pandas option that avoids the default curtailing of long rows with ...\n",
    "pd.set_option('display.max_colwidth', -1)\n",
    "\n",
    "# show dataframe sorted by number of times achieved\n",
    "df = df.sort(['Times 20+ Achieved', 'Tot'], ascending=(False, False))\n",
    "df[['Times 20+ Achieved', 'Seasons in which player scored 20+ goals (with number of league goals scored)']]"
   ]
  },
  {
   "cell_type": "code",
   "execution_count": 38,
   "metadata": {
    "collapsed": false
   },
   "outputs": [
    {
     "data": {
      "text/html": [
       "<div>\n",
       "<table border=\"1\" class=\"dataframe\">\n",
       "  <thead>\n",
       "    <tr style=\"text-align: right;\">\n",
       "      <th></th>\n",
       "      <th>season</th>\n",
       "      <th>player</th>\n",
       "      <th>league</th>\n",
       "      <th>position</th>\n",
       "      <th>age</th>\n",
       "    </tr>\n",
       "  </thead>\n",
       "  <tbody>\n",
       "    <tr>\n",
       "      <th>7</th>\n",
       "      <td>1994-1995</td>\n",
       "      <td>Robbie Fowler</td>\n",
       "      <td>25</td>\n",
       "      <td>Striker</td>\n",
       "      <td>19.7</td>\n",
       "    </tr>\n",
       "    <tr>\n",
       "      <th>5</th>\n",
       "      <td>1995-1996</td>\n",
       "      <td>Robbie Fowler</td>\n",
       "      <td>28</td>\n",
       "      <td>Striker</td>\n",
       "      <td>20.7</td>\n",
       "    </tr>\n",
       "    <tr>\n",
       "      <th>11</th>\n",
       "      <td>1982-1983</td>\n",
       "      <td>Ian Rush</td>\n",
       "      <td>24</td>\n",
       "      <td>Striker</td>\n",
       "      <td>21.2</td>\n",
       "    </tr>\n",
       "    <tr>\n",
       "      <th>0</th>\n",
       "      <td>1983-1984</td>\n",
       "      <td>Ian Rush</td>\n",
       "      <td>32</td>\n",
       "      <td>Striker</td>\n",
       "      <td>22.2</td>\n",
       "    </tr>\n",
       "    <tr>\n",
       "      <th>10</th>\n",
       "      <td>2007-2008</td>\n",
       "      <td>Fernando Torres</td>\n",
       "      <td>24</td>\n",
       "      <td>Striker</td>\n",
       "      <td>23.8</td>\n",
       "    </tr>\n",
       "  </tbody>\n",
       "</table>\n",
       "</div>"
      ],
      "text/plain": [
       "       season           player  league position   age\n",
       "7   1994-1995  Robbie Fowler    25      Striker  19.7\n",
       "5   1995-1996  Robbie Fowler    28      Striker  20.7\n",
       "11  1982-1983  Ian Rush         24      Striker  21.2\n",
       "0   1983-1984  Ian Rush         32      Striker  22.2\n",
       "10  2007-2008  Fernando Torres  24      Striker  23.8"
      ]
     },
     "execution_count": 38,
     "metadata": {},
     "output_type": "execute_result"
    }
   ],
   "source": [
    "# show youngest elite scorers who scored >20\n",
    "dflfc_elite.sort('league', ascending=False).sort('age').head(5)"
   ]
  },
  {
   "cell_type": "code",
   "execution_count": 39,
   "metadata": {
    "collapsed": false
   },
   "outputs": [
    {
     "data": {
      "text/html": [
       "<div>\n",
       "<table border=\"1\" class=\"dataframe\">\n",
       "  <thead>\n",
       "    <tr style=\"text-align: right;\">\n",
       "      <th></th>\n",
       "      <th>season</th>\n",
       "      <th>player</th>\n",
       "      <th>league</th>\n",
       "      <th>position</th>\n",
       "      <th>age</th>\n",
       "    </tr>\n",
       "  </thead>\n",
       "  <tbody>\n",
       "    <tr>\n",
       "      <th>256</th>\n",
       "      <td>1994-1995</td>\n",
       "      <td>Robbie Fowler</td>\n",
       "      <td>25</td>\n",
       "      <td>Striker</td>\n",
       "      <td>19.7</td>\n",
       "    </tr>\n",
       "    <tr>\n",
       "      <th>246</th>\n",
       "      <td>1995-1996</td>\n",
       "      <td>Robbie Fowler</td>\n",
       "      <td>28</td>\n",
       "      <td>Striker</td>\n",
       "      <td>20.7</td>\n",
       "    </tr>\n",
       "    <tr>\n",
       "      <th>400</th>\n",
       "      <td>1982-1983</td>\n",
       "      <td>Ian Rush</td>\n",
       "      <td>24</td>\n",
       "      <td>Striker</td>\n",
       "      <td>21.2</td>\n",
       "    </tr>\n",
       "    <tr>\n",
       "      <th>388</th>\n",
       "      <td>1983-1984</td>\n",
       "      <td>Ian Rush</td>\n",
       "      <td>32</td>\n",
       "      <td>Striker</td>\n",
       "      <td>22.2</td>\n",
       "    </tr>\n",
       "    <tr>\n",
       "      <th>968</th>\n",
       "      <td>1914-1915</td>\n",
       "      <td>Fred Pagnam</td>\n",
       "      <td>24</td>\n",
       "      <td>Striker</td>\n",
       "      <td>23.3</td>\n",
       "    </tr>\n",
       "  </tbody>\n",
       "</table>\n",
       "</div>"
      ],
      "text/plain": [
       "        season         player  league position   age\n",
       "256  1994-1995  Robbie Fowler  25      Striker  19.7\n",
       "246  1995-1996  Robbie Fowler  28      Striker  20.7\n",
       "400  1982-1983  Ian Rush       24      Striker  21.2\n",
       "388  1983-1984  Ian Rush       32      Striker  22.2\n",
       "968  1914-1915  Fred Pagnam    24      Striker  23.3"
      ]
     },
     "execution_count": 39,
     "metadata": {},
     "output_type": "execute_result"
    }
   ],
   "source": [
    "# check to see if anyone has matched Robbie's feat...\n",
    "# show youngest elite scorers who scored >20 for ALL seasons\n",
    "dflfc_scorers_tl_pos_age[(dflfc_scorers_tl_pos_age.league >= 20)].sort('league', ascending=False).sort('age').head(5)"
   ]
  },
  {
   "cell_type": "markdown",
   "metadata": {},
   "source": [
    "No, only God has done that!"
   ]
  },
  {
   "cell_type": "code",
   "execution_count": 40,
   "metadata": {
    "collapsed": false
   },
   "outputs": [
    {
     "data": {
      "text/html": [
       "<div>\n",
       "<table border=\"1\" class=\"dataframe\">\n",
       "  <thead>\n",
       "    <tr style=\"text-align: right;\">\n",
       "      <th></th>\n",
       "      <th>season</th>\n",
       "      <th>player</th>\n",
       "      <th>league</th>\n",
       "      <th>position</th>\n",
       "      <th>age</th>\n",
       "    </tr>\n",
       "  </thead>\n",
       "  <tbody>\n",
       "    <tr>\n",
       "      <th>18</th>\n",
       "      <td>1978-1979</td>\n",
       "      <td>Kenny Dalglish</td>\n",
       "      <td>21</td>\n",
       "      <td>Striker</td>\n",
       "      <td>27.8</td>\n",
       "    </tr>\n",
       "    <tr>\n",
       "      <th>17</th>\n",
       "      <td>1979-1980</td>\n",
       "      <td>David Johnson</td>\n",
       "      <td>21</td>\n",
       "      <td>Striker</td>\n",
       "      <td>28.2</td>\n",
       "    </tr>\n",
       "    <tr>\n",
       "      <th>6</th>\n",
       "      <td>1987-1988</td>\n",
       "      <td>John Aldridge</td>\n",
       "      <td>26</td>\n",
       "      <td>Striker</td>\n",
       "      <td>29.3</td>\n",
       "    </tr>\n",
       "    <tr>\n",
       "      <th>9</th>\n",
       "      <td>1967-1968</td>\n",
       "      <td>Roger Hunt</td>\n",
       "      <td>25</td>\n",
       "      <td>Striker</td>\n",
       "      <td>29.5</td>\n",
       "    </tr>\n",
       "    <tr>\n",
       "      <th>19</th>\n",
       "      <td>1988-1989</td>\n",
       "      <td>John Aldridge</td>\n",
       "      <td>21</td>\n",
       "      <td>Striker</td>\n",
       "      <td>30.3</td>\n",
       "    </tr>\n",
       "  </tbody>\n",
       "</table>\n",
       "</div>"
      ],
      "text/plain": [
       "       season          player  league position   age\n",
       "18  1978-1979  Kenny Dalglish  21      Striker  27.8\n",
       "17  1979-1980  David Johnson   21      Striker  28.2\n",
       "6   1987-1988  John Aldridge   26      Striker  29.3\n",
       "9   1967-1968  Roger Hunt      25      Striker  29.5\n",
       "19  1988-1989  John Aldridge   21      Striker  30.3"
      ]
     },
     "execution_count": 40,
     "metadata": {},
     "output_type": "execute_result"
    }
   ],
   "source": [
    "# show oldest elite scorers who scored >20\n",
    "dflfc_elite.sort('league', ascending=False).sort('age').tail(5)"
   ]
  },
  {
   "cell_type": "code",
   "execution_count": 41,
   "metadata": {
    "collapsed": false
   },
   "outputs": [
    {
     "data": {
      "text/plain": [
       "Roger Hunt          5\n",
       "Ian Rush            4\n",
       "John Aldridge       2\n",
       "Robbie Fowler       2\n",
       "Luis Suarez         2\n",
       "Kenny Dalglish      2\n",
       "Ian St John         1\n",
       "Fernando Torres     1\n",
       "Daniel Sturridge    1\n",
       "David Johnson       1\n",
       "John Barnes         1\n",
       "dtype: int64"
      ]
     },
     "execution_count": 41,
     "metadata": {},
     "output_type": "execute_result"
    }
   ],
   "source": [
    "# show most appearances of elite strikers who scored >20\n",
    "dflfc_elite.sort('league', ascending=False).player.value_counts()"
   ]
  },
  {
   "cell_type": "code",
   "execution_count": 42,
   "metadata": {
    "collapsed": false
   },
   "outputs": [
    {
     "data": {
      "text/plain": [
       "league    24.818182\n",
       "age       25.550000\n",
       "dtype: float64"
      ]
     },
     "execution_count": 42,
     "metadata": {},
     "output_type": "execute_result"
    }
   ],
   "source": [
    "# show average (mean) age of elite strikers who scored >20\n",
    "dflfc_elite.sort('league', ascending=False).mean()"
   ]
  },
  {
   "cell_type": "code",
   "execution_count": 43,
   "metadata": {
    "collapsed": false
   },
   "outputs": [
    {
     "data": {
      "text/plain": [
       "league    24.0\n",
       "age       25.8\n",
       "dtype: float64"
      ]
     },
     "execution_count": 43,
     "metadata": {},
     "output_type": "execute_result"
    }
   ],
   "source": [
    "# show average (median) age of elite strikers who scored >20\n",
    "dflfc_elite.sort('league', ascending=False).median()"
   ]
  },
  {
   "cell_type": "code",
   "execution_count": 44,
   "metadata": {
    "collapsed": false
   },
   "outputs": [
    {
     "data": {
      "text/plain": [
       "Gordon Hodgson      7\n",
       "Roger Hunt          5\n",
       "Ian Rush            4\n",
       "Joe Hewitt          2\n",
       "John Aldridge       2\n",
       "Harry Chambers      2\n",
       "Kenny Dalglish      2\n",
       "Albert Stubbins     2\n",
       "Robbie Fowler       2\n",
       "Luis Suarez         2\n",
       "Dick Forshaw        1\n",
       "David Johnson       1\n",
       "Daniel Sturridge    1\n",
       "Jimmy Smith         1\n",
       "Ian St John         1\n",
       "John Barnes         1\n",
       "Fred Pagnam         1\n",
       "Sam Raybould        1\n",
       "Jack Balmer         1\n",
       "Ronald Orr          1\n",
       "Fernando Torres     1\n",
       "Jack Parkinson      1\n",
       "dtype: int64"
      ]
     },
     "execution_count": 44,
     "metadata": {},
     "output_type": "execute_result"
    }
   ],
   "source": [
    "# show most appearances of elite strikers who scored >20 for ALL seasons\n",
    "dflfc_scorers_tl_pos_age[(dflfc_scorers_tl_pos_age.league >= 20)].sort('league', ascending=False).player.value_counts()"
   ]
  },
  {
   "cell_type": "code",
   "execution_count": 45,
   "metadata": {
    "collapsed": false
   },
   "outputs": [
    {
     "data": {
      "text/plain": [
       "Gordon Hodgson    4\n",
       "Roger Hunt        4\n",
       "Ian Rush          2\n",
       "Robbie Fowler     2\n",
       "Dick Forshaw      1\n",
       "Luis Suarez       1\n",
       "John Aldridge     1\n",
       "Sam Raybould      1\n",
       "Jack Parkinson    1\n",
       "dtype: int64"
      ]
     },
     "execution_count": 45,
     "metadata": {},
     "output_type": "execute_result"
    }
   ],
   "source": [
    "# show most appearances of elite strikers who scored >25 for ALL seasons\n",
    "dflfc_scorers_tl_pos_age[(dflfc_scorers_tl_pos_age.league >= 25)].sort('league', ascending=False).player.value_counts()"
   ]
  },
  {
   "cell_type": "code",
   "execution_count": 46,
   "metadata": {
    "collapsed": false
   },
   "outputs": [
    {
     "data": {
      "text/plain": [
       "season\n",
       "1962-1963    1\n",
       "1963-1964    2\n",
       "1964-1965    1\n",
       "1965-1966    1\n",
       "1967-1968    1\n",
       "1977-1978    1\n",
       "1978-1979    1\n",
       "1979-1980    1\n",
       "1982-1983    1\n",
       "1983-1984    1\n",
       "1985-1986    1\n",
       "1986-1987    1\n",
       "1987-1988    1\n",
       "1988-1989    1\n",
       "1989-1990    1\n",
       "1994-1995    1\n",
       "1995-1996    1\n",
       "2007-2008    1\n",
       "2012-2013    1\n",
       "2013-2014    2\n",
       "Name: player, dtype: int64"
      ]
     },
     "execution_count": 46,
     "metadata": {},
     "output_type": "execute_result"
    }
   ],
   "source": [
    "# show frequency of elite scorers who scored >20\n",
    "top20_freq = dflfc_elite['player'].groupby(dflfc_elite.season).count()\n",
    "top20_freq"
   ]
  },
  {
   "cell_type": "code",
   "execution_count": 47,
   "metadata": {
    "collapsed": false
   },
   "outputs": [
    {
     "name": "stdout",
     "output_type": "stream",
     "text": [
      "53\n"
     ]
    },
    {
     "data": {
      "text/plain": [
       "['1962-1963', '1963-1964', '1964-1965', '1965-1966', '1966-1967']"
      ]
     },
     "execution_count": 47,
     "metadata": {},
     "output_type": "execute_result"
    }
   ],
   "source": [
    "# produce list of all modern seasons (since 1962)\n",
    "START_MOD_YR = 1962\n",
    "END_MOD_YR = 2015\n",
    "all_mod_yrs = list('{}-{}'.format(i, i+1) for i in range(START_MOD_YR, END_MOD_YR))\n",
    "print len(all_mod_yrs) # expect 53\n",
    "all_mod_yrs[0:5]"
   ]
  },
  {
   "cell_type": "code",
   "execution_count": 48,
   "metadata": {
    "collapsed": false
   },
   "outputs": [
    {
     "data": {
      "text/plain": [
       "season\n",
       "1962-1963    1\n",
       "1963-1964    2\n",
       "1964-1965    1\n",
       "1965-1966    1\n",
       "1966-1967    0\n",
       "Name: player, dtype: int64"
      ]
     },
     "execution_count": 48,
     "metadata": {},
     "output_type": "execute_result"
    }
   ],
   "source": [
    "# identify missing years and update frequency so it shows all years \n",
    "missing_mod_years = [year for year in all_mod_yrs if year not in top20_freq.index.values]\n",
    "for yr in missing_mod_years:\n",
    "    top20_freq[yr] = 0\n",
    "top20_freq = top20_freq.sort_index()\n",
    "top20_freq[0:5]"
   ]
  },
  {
   "cell_type": "code",
   "execution_count": 49,
   "metadata": {
    "collapsed": false
   },
   "outputs": [
    {
     "data": {
      "text/plain": [
       "['1900-1901', '1905-1906', '1921-1922', '1922-1923', '1946-1947']"
      ]
     },
     "execution_count": 49,
     "metadata": {},
     "output_type": "execute_result"
    }
   ],
   "source": [
    "# create list of seasons when LFC were champions\n",
    "CHAMPS = ['1900-1901', '1905-1906', '1921-1922', '1922-1923', '1946-1947', '1963-1964',\\\n",
    "          '1965-1966', '1972-1973', '1975-1976', '1976-1977', '1978-1979', '1979-1980',\\\n",
    "          '1981-1982', '1982-1983', '1983-1984', '1985-1986', '1987-1988', '1989-1990']\n",
    "CHAMPS[0:5]"
   ]
  },
  {
   "cell_type": "markdown",
   "metadata": {},
   "source": [
    "Plot the number of players scoring 20 or more goals by season"
   ]
  },
  {
   "cell_type": "code",
   "execution_count": 50,
   "metadata": {
    "collapsed": false
   },
   "outputs": [
    {
     "data": {
      "image/png": "[encoded data removed]",
      "text/plain": [
       "<matplotlib.figure.Figure at 0xbbd3860>"
      ]
     },
     "metadata": {},
     "output_type": "display_data"
    }
   ],
   "source": [
    "ax = top20_freq.plot(kind='bar', figsize=(14, 5), color='y', yticks=[0, 1, 2], ylim=(0,2.5), grid=False)\n",
    "ax.set_xlabel('Season')\n",
    "ax.set_ylabel('Number of players')\n",
    "ax.set_title('Number of players scoring 20 or more goals by Season')\n",
    "ax.text(-0.2, 2.36, 'prepared by: @terry8dolan', bbox=dict(facecolor='none', edgecolor='none', alpha=0.6))\n",
    "\n",
    "# add vertical line for title winning seasons since 1962\n",
    "champs_since_62 = [list(top20_freq.index.values).index(yr) for yr in CHAMPS if yr[0:4] >= '1962']\n",
    "for x in champs_since_62:\n",
    "    plt.axvline(x, color='r', linestyle='--')\n",
    "    \n",
    "# create fake legend\n",
    "l1 = plt.Line2D([], [], linewidth=1, color='r', linestyle='--')\n",
    "l2 = plt.Line2D([], [], linewidth=5, color='y')\n",
    "labels = ['LFC Title Winning Seasons', 'Players scoring 20+ goals in the league']\n",
    "ax.legend([l1, l2], labels, fancybox=True, shadow=True, framealpha=0.8)\n",
    "\n",
    "# plot and save current figure\n",
    "fig = plt.gcf() \n",
    "plt.show()\n",
    "fig.savefig('20+PlayervsGoals.png', bbox_inches='tight')"
   ]
  },
  {
   "cell_type": "markdown",
   "metadata": {},
   "source": [
    "Show percentage of title winning seasons that have had striker with >20 goals"
   ]
  },
  {
   "cell_type": "code",
   "execution_count": 51,
   "metadata": {
    "collapsed": false
   },
   "outputs": [
    {
     "data": {
      "text/html": [
       "<div>\n",
       "<table border=\"1\" class=\"dataframe\">\n",
       "  <thead>\n",
       "    <tr style=\"text-align: right;\">\n",
       "      <th></th>\n",
       "      <th>season</th>\n",
       "      <th>pos</th>\n",
       "    </tr>\n",
       "  </thead>\n",
       "  <tbody>\n",
       "    <tr>\n",
       "      <th>59</th>\n",
       "      <td>1962-1963</td>\n",
       "      <td>8</td>\n",
       "    </tr>\n",
       "    <tr>\n",
       "      <th>60</th>\n",
       "      <td>1963-1964</td>\n",
       "      <td>1</td>\n",
       "    </tr>\n",
       "    <tr>\n",
       "      <th>61</th>\n",
       "      <td>1964-1965</td>\n",
       "      <td>7</td>\n",
       "    </tr>\n",
       "    <tr>\n",
       "      <th>62</th>\n",
       "      <td>1965-1966</td>\n",
       "      <td>1</td>\n",
       "    </tr>\n",
       "    <tr>\n",
       "      <th>63</th>\n",
       "      <td>1966-1967</td>\n",
       "      <td>5</td>\n",
       "    </tr>\n",
       "  </tbody>\n",
       "</table>\n",
       "</div>"
      ],
      "text/plain": [
       "       season  pos\n",
       "59  1962-1963  8  \n",
       "60  1963-1964  1  \n",
       "61  1964-1965  7  \n",
       "62  1965-1966  1  \n",
       "63  1966-1967  5  "
      ]
     },
     "execution_count": 51,
     "metadata": {},
     "output_type": "execute_result"
    }
   ],
   "source": [
    "# create a dataframe showing position in league in top flight season since 1962\n",
    "dflfc_league_pos = dflfc_league[['Season', 'Pos']][dflfc_league.Season.str[0:4] >= '1962']\n",
    "dflfc_league_pos.rename(columns={'Season': 'season', 'Pos': 'pos'}, inplace=True)\n",
    "dflfc_league_pos.head()"
   ]
  },
  {
   "cell_type": "code",
   "execution_count": 52,
   "metadata": {
    "collapsed": false
   },
   "outputs": [
    {
     "data": {
      "text/html": [
       "<div>\n",
       "<table border=\"1\" class=\"dataframe\">\n",
       "  <thead>\n",
       "    <tr style=\"text-align: right;\">\n",
       "      <th></th>\n",
       "      <th>season</th>\n",
       "      <th>pos</th>\n",
       "    </tr>\n",
       "  </thead>\n",
       "  <tbody>\n",
       "    <tr>\n",
       "      <th>59</th>\n",
       "      <td>1962-1963</td>\n",
       "      <td>8</td>\n",
       "    </tr>\n",
       "    <tr>\n",
       "      <th>60</th>\n",
       "      <td>1963-1964</td>\n",
       "      <td>1</td>\n",
       "    </tr>\n",
       "    <tr>\n",
       "      <th>61</th>\n",
       "      <td>1964-1965</td>\n",
       "      <td>7</td>\n",
       "    </tr>\n",
       "    <tr>\n",
       "      <th>62</th>\n",
       "      <td>1965-1966</td>\n",
       "      <td>1</td>\n",
       "    </tr>\n",
       "    <tr>\n",
       "      <th>64</th>\n",
       "      <td>1967-1968</td>\n",
       "      <td>3</td>\n",
       "    </tr>\n",
       "  </tbody>\n",
       "</table>\n",
       "</div>"
      ],
      "text/plain": [
       "       season  pos\n",
       "59  1962-1963  8  \n",
       "60  1963-1964  1  \n",
       "61  1964-1965  7  \n",
       "62  1965-1966  1  \n",
       "64  1967-1968  3  "
      ]
     },
     "execution_count": 52,
     "metadata": {},
     "output_type": "execute_result"
    }
   ],
   "source": [
    "# create dataframe showing position in league when players have scored >20\n",
    "top20_seasons = dflfc_elite.season.unique()\n",
    "dflfc_elite_pos = dflfc_league_pos[dflfc_league_pos.season.isin(top20_seasons)]\n",
    "dflfc_elite_pos.head()"
   ]
  },
  {
   "cell_type": "code",
   "execution_count": 53,
   "metadata": {
    "collapsed": false
   },
   "outputs": [
    {
     "data": {
      "text/plain": [
       "1    9\n",
       "2    4\n",
       "7    2\n",
       "4    2\n",
       "3    2\n",
       "8    1\n",
       "dtype: int64"
      ]
     },
     "execution_count": 53,
     "metadata": {},
     "output_type": "execute_result"
    }
   ],
   "source": [
    "# show position in league when players have scored >20\n",
    "val_cnts = dflfc_league_pos[['season', 'pos']][dflfc_league_pos.season.isin(top20_seasons)]['pos'].value_counts()\n",
    "val_cnts"
   ]
  },
  {
   "cell_type": "code",
   "execution_count": 54,
   "metadata": {
    "collapsed": false
   },
   "outputs": [
    {
     "name": "stdout",
     "output_type": "stream",
     "text": [
      "9 of 13 (69.2%) of title winning seasons have had striker with >20 goals\n"
     ]
    }
   ],
   "source": [
    "# show % of title winning seasons that have had striker with >20 goals\n",
    "tot_champs_since_62 = len(dflfc_league_pos[(dflfc_league_pos.pos == 1)])\n",
    "tot_elite_champs = len(dflfc_elite_pos[(dflfc_elite_pos.pos == 1)])\n",
    "print '{} of {} ({}%) of title winning seasons have had striker with >20 goals'\\\n",
    "                        .format(tot_elite_champs,\n",
    "                                tot_champs_since_62,\n",
    "                                round(100*tot_elite_champs/tot_champs_since_62, 1))"
   ]
  },
  {
   "cell_type": "code",
   "execution_count": 55,
   "metadata": {
    "collapsed": false
   },
   "outputs": [
    {
     "data": {
      "text/html": [
       "<div>\n",
       "<table border=\"1\" class=\"dataframe\">\n",
       "  <thead>\n",
       "    <tr style=\"text-align: right;\">\n",
       "      <th></th>\n",
       "      <th>season</th>\n",
       "      <th>player</th>\n",
       "      <th>league</th>\n",
       "      <th>position</th>\n",
       "      <th>age</th>\n",
       "    </tr>\n",
       "  </thead>\n",
       "  <tbody>\n",
       "    <tr>\n",
       "      <th>472</th>\n",
       "      <td>1976-1977</td>\n",
       "      <td>Kevin Keegan</td>\n",
       "      <td>12</td>\n",
       "      <td>Striker</td>\n",
       "      <td>25.9</td>\n",
       "    </tr>\n",
       "    <tr>\n",
       "      <th>522</th>\n",
       "      <td>1972-1973</td>\n",
       "      <td>Kevin Keegan</td>\n",
       "      <td>13</td>\n",
       "      <td>Striker</td>\n",
       "      <td>21.9</td>\n",
       "    </tr>\n",
       "    <tr>\n",
       "      <th>485</th>\n",
       "      <td>1975-1976</td>\n",
       "      <td>John Toshack</td>\n",
       "      <td>16</td>\n",
       "      <td>Striker</td>\n",
       "      <td>26.8</td>\n",
       "    </tr>\n",
       "    <tr>\n",
       "      <th>411</th>\n",
       "      <td>1981-1982</td>\n",
       "      <td>Ian Rush</td>\n",
       "      <td>17</td>\n",
       "      <td>Striker</td>\n",
       "      <td>20.2</td>\n",
       "    </tr>\n",
       "  </tbody>\n",
       "</table>\n",
       "</div>"
      ],
      "text/plain": [
       "        season        player  league position   age\n",
       "472  1976-1977  Kevin Keegan  12      Striker  25.9\n",
       "522  1972-1973  Kevin Keegan  13      Striker  21.9\n",
       "485  1975-1976  John Toshack  16      Striker  26.8\n",
       "411  1981-1982  Ian Rush      17      Striker  20.2"
      ]
     },
     "execution_count": 55,
     "metadata": {},
     "output_type": "execute_result"
    }
   ],
   "source": [
    "# show the 4 title winning seasons since 1962 that didn't have an elite scorer\n",
    "dflfc_scorers_tl_pos_age[(dflfc_scorers_tl_pos_age.season.str[0:4] >= '1962') & \n",
    "                        (dflfc_scorers_tl_pos_age.season.isin(CHAMPS))].sort(['season', 'league'], ascending=[True, False])\\\n",
    "                        .groupby(dflfc_scorers_tl_pos_age.season).head(1).sort('league').head(4)"
   ]
  },
  {
   "cell_type": "code",
   "execution_count": 56,
   "metadata": {
    "collapsed": false
   },
   "outputs": [
    {
     "data": {
      "text/html": [
       "<div>\n",
       "<table border=\"1\" class=\"dataframe\">\n",
       "  <thead>\n",
       "    <tr style=\"text-align: right;\">\n",
       "      <th></th>\n",
       "      <th>season</th>\n",
       "      <th>player</th>\n",
       "      <th>league</th>\n",
       "      <th>position</th>\n",
       "      <th>age</th>\n",
       "    </tr>\n",
       "  </thead>\n",
       "  <tbody>\n",
       "    <tr>\n",
       "      <th>411</th>\n",
       "      <td>1981-1982</td>\n",
       "      <td>Ian Rush</td>\n",
       "      <td>17</td>\n",
       "      <td>Striker</td>\n",
       "      <td>20.2</td>\n",
       "    </tr>\n",
       "    <tr>\n",
       "      <th>412</th>\n",
       "      <td>1981-1982</td>\n",
       "      <td>Terry McDermott</td>\n",
       "      <td>14</td>\n",
       "      <td>Midfielder</td>\n",
       "      <td>30.1</td>\n",
       "    </tr>\n",
       "    <tr>\n",
       "      <th>413</th>\n",
       "      <td>1981-1982</td>\n",
       "      <td>Kenny Dalglish</td>\n",
       "      <td>13</td>\n",
       "      <td>Striker</td>\n",
       "      <td>30.9</td>\n",
       "    </tr>\n",
       "    <tr>\n",
       "      <th>472</th>\n",
       "      <td>1976-1977</td>\n",
       "      <td>Kevin Keegan</td>\n",
       "      <td>12</td>\n",
       "      <td>Striker</td>\n",
       "      <td>25.9</td>\n",
       "    </tr>\n",
       "    <tr>\n",
       "      <th>473</th>\n",
       "      <td>1976-1977</td>\n",
       "      <td>John Toshack</td>\n",
       "      <td>10</td>\n",
       "      <td>Striker</td>\n",
       "      <td>27.8</td>\n",
       "    </tr>\n",
       "    <tr>\n",
       "      <th>474</th>\n",
       "      <td>1976-1977</td>\n",
       "      <td>Steve Heighway</td>\n",
       "      <td>8</td>\n",
       "      <td>Midfielder</td>\n",
       "      <td>29.1</td>\n",
       "    </tr>\n",
       "    <tr>\n",
       "      <th>485</th>\n",
       "      <td>1975-1976</td>\n",
       "      <td>John Toshack</td>\n",
       "      <td>16</td>\n",
       "      <td>Striker</td>\n",
       "      <td>26.8</td>\n",
       "    </tr>\n",
       "    <tr>\n",
       "      <th>486</th>\n",
       "      <td>1975-1976</td>\n",
       "      <td>Kevin Keegan</td>\n",
       "      <td>12</td>\n",
       "      <td>Striker</td>\n",
       "      <td>24.9</td>\n",
       "    </tr>\n",
       "    <tr>\n",
       "      <th>487</th>\n",
       "      <td>1975-1976</td>\n",
       "      <td>David Fairclough</td>\n",
       "      <td>7</td>\n",
       "      <td>Striker</td>\n",
       "      <td>19.0</td>\n",
       "    </tr>\n",
       "    <tr>\n",
       "      <th>522</th>\n",
       "      <td>1972-1973</td>\n",
       "      <td>Kevin Keegan</td>\n",
       "      <td>13</td>\n",
       "      <td>Striker</td>\n",
       "      <td>21.9</td>\n",
       "    </tr>\n",
       "    <tr>\n",
       "      <th>523</th>\n",
       "      <td>1972-1973</td>\n",
       "      <td>John Toshack</td>\n",
       "      <td>13</td>\n",
       "      <td>Striker</td>\n",
       "      <td>23.8</td>\n",
       "    </tr>\n",
       "    <tr>\n",
       "      <th>524</th>\n",
       "      <td>1972-1973</td>\n",
       "      <td>Peter Cormack</td>\n",
       "      <td>8</td>\n",
       "      <td>Midfielder</td>\n",
       "      <td>26.5</td>\n",
       "    </tr>\n",
       "  </tbody>\n",
       "</table>\n",
       "</div>"
      ],
      "text/plain": [
       "        season            player  league    position   age\n",
       "411  1981-1982  Ian Rush          17      Striker     20.2\n",
       "412  1981-1982  Terry McDermott   14      Midfielder  30.1\n",
       "413  1981-1982  Kenny Dalglish    13      Striker     30.9\n",
       "472  1976-1977  Kevin Keegan      12      Striker     25.9\n",
       "473  1976-1977  John Toshack      10      Striker     27.8\n",
       "474  1976-1977  Steve Heighway    8       Midfielder  29.1\n",
       "485  1975-1976  John Toshack      16      Striker     26.8\n",
       "486  1975-1976  Kevin Keegan      12      Striker     24.9\n",
       "487  1975-1976  David Fairclough  7       Striker     19.0\n",
       "522  1972-1973  Kevin Keegan      13      Striker     21.9\n",
       "523  1972-1973  John Toshack      13      Striker     23.8\n",
       "524  1972-1973  Peter Cormack     8       Midfielder  26.5"
      ]
     },
     "execution_count": 56,
     "metadata": {},
     "output_type": "execute_result"
    }
   ],
   "source": [
    "# show top goalscorers in modern seasons when Liverpool won the league without a striker scoring >20\n",
    "s = ['1976-1977', '1972-1973', '1975-1976', '1981-1982']\n",
    "dflfc_scorers_tl_pos_age[dflfc_scorers_tl_pos_age.season.isin(s)].groupby('season').head(3)"
   ]
  },
  {
   "cell_type": "markdown",
   "metadata": {},
   "source": [
    "Show distribution of strikers with more than 20 goals by age"
   ]
  },
  {
   "cell_type": "code",
   "execution_count": 57,
   "metadata": {
    "collapsed": false
   },
   "outputs": [
    {
     "data": {
      "text/plain": [
       "(26, 27]    4\n",
       "(25, 26]    4\n",
       "(24, 25]    3\n",
       "(29, 30]    2\n",
       "(27, 28]    2\n",
       "(30, 31]    1\n",
       "(28, 29]    1\n",
       "(23, 24]    1\n",
       "(22, 23]    1\n",
       "(21, 22]    1\n",
       "(20, 21]    1\n",
       "(19, 20]    1\n",
       "dtype: int64"
      ]
     },
     "execution_count": 57,
     "metadata": {},
     "output_type": "execute_result"
    }
   ],
   "source": [
    "# create 'cut' of value counts\n",
    "pd.value_counts(pd.cut(dflfc_elite.age.values, range(19,32)))"
   ]
  },
  {
   "cell_type": "code",
   "execution_count": 58,
   "metadata": {
    "collapsed": false
   },
   "outputs": [
    {
     "data": {
      "text/html": [
       "<div>\n",
       "<table border=\"1\" class=\"dataframe\">\n",
       "  <thead>\n",
       "    <tr style=\"text-align: right;\">\n",
       "      <th></th>\n",
       "      <th>0</th>\n",
       "    </tr>\n",
       "  </thead>\n",
       "  <tbody>\n",
       "    <tr>\n",
       "      <th>19 to 20</th>\n",
       "      <td>1</td>\n",
       "    </tr>\n",
       "    <tr>\n",
       "      <th>20 to 21</th>\n",
       "      <td>1</td>\n",
       "    </tr>\n",
       "    <tr>\n",
       "      <th>21 to 22</th>\n",
       "      <td>1</td>\n",
       "    </tr>\n",
       "    <tr>\n",
       "      <th>22 to 23</th>\n",
       "      <td>1</td>\n",
       "    </tr>\n",
       "    <tr>\n",
       "      <th>23 to 24</th>\n",
       "      <td>1</td>\n",
       "    </tr>\n",
       "    <tr>\n",
       "      <th>24 to 25</th>\n",
       "      <td>3</td>\n",
       "    </tr>\n",
       "    <tr>\n",
       "      <th>25 to 26</th>\n",
       "      <td>4</td>\n",
       "    </tr>\n",
       "    <tr>\n",
       "      <th>26 to 27</th>\n",
       "      <td>4</td>\n",
       "    </tr>\n",
       "    <tr>\n",
       "      <th>27 to 28</th>\n",
       "      <td>2</td>\n",
       "    </tr>\n",
       "    <tr>\n",
       "      <th>28 to 29</th>\n",
       "      <td>1</td>\n",
       "    </tr>\n",
       "    <tr>\n",
       "      <th>29 to 30</th>\n",
       "      <td>2</td>\n",
       "    </tr>\n",
       "    <tr>\n",
       "      <th>30 to 31</th>\n",
       "      <td>1</td>\n",
       "    </tr>\n",
       "  </tbody>\n",
       "</table>\n",
       "</div>"
      ],
      "text/plain": [
       "          0\n",
       "19 to 20  1\n",
       "20 to 21  1\n",
       "21 to 22  1\n",
       "22 to 23  1\n",
       "23 to 24  1\n",
       "24 to 25  3\n",
       "25 to 26  4\n",
       "26 to 27  4\n",
       "27 to 28  2\n",
       "28 to 29  1\n",
       "29 to 30  2\n",
       "30 to 31  1"
      ]
     },
     "execution_count": 58,
     "metadata": {},
     "output_type": "execute_result"
    }
   ],
   "source": [
    "# create dataframe of value counts of age cut into 1 year bins from 19 to 31\n",
    "MIN_AGE = int(np.floor(dflfc_elite.age.min()))\n",
    "MAX_AGE = int(np.ceil(dflfc_elite.age.max()))\n",
    "\n",
    "df = pd.DataFrame(pd.value_counts(pd.cut(dflfc_elite.age.values, \n",
    "                                         range(MIN_AGE, MAX_AGE+1), \n",
    "                                         labels=['{} to {}'.format(i, i+1) for i in range(MIN_AGE, MAX_AGE)])))\n",
    "df.sort_index(inplace=True)\n",
    "df"
   ]
  },
  {
   "cell_type": "code",
   "execution_count": 59,
   "metadata": {
    "collapsed": false
   },
   "outputs": [
    {
     "data": {
      "image/png": "[encoded data removed]",
      "text/plain": [
       "<matplotlib.figure.Figure at 0x38d29e8>"
      ]
     },
     "metadata": {},
     "output_type": "display_data"
    }
   ],
   "source": [
    "# plot\n",
    "ax = df.plot(kind='bar', figsize=(9, 6), grid=False, ylim=(0, 4.5), yticks=range(1,5), legend=False, color='r')\n",
    "ax.set_xlabel('Age')\n",
    "ax.set_ylabel('Number of players')\n",
    "ax.set_title('Number of players scoring 20 or more goals by Age')\n",
    "ax.text(-0.4, 4.3, 'prepared by: @terry8dolan', bbox=dict(facecolor='none', edgecolor='none', alpha=0.6))\n",
    "\n",
    "# plot and save current figure\n",
    "fig = plt.gcf() \n",
    "plt.show()\n",
    "fig.savefig('20+PlayervsAge.png', bbox_inches='tight')"
   ]
  },
  {
   "cell_type": "code",
   "execution_count": null,
   "metadata": {
    "collapsed": true
   },
   "outputs": [],
   "source": []
  }
 ],
 "metadata": {
  "kernelspec": {
   "display_name": "Python 2",
   "language": "python",
   "name": "python2"
  },
  "language_info": {
   "codemirror_mode": {
    "name": "ipython",
    "version": 2
   },
   "file_extension": ".py",
   "mimetype": "text/x-python",
   "name": "python",
   "nbconvert_exporter": "python",
   "pygments_lexer": "ipython2",
   "version": "2.7.8"
  }
 },
 "nbformat": 4,
 "nbformat_minor": 0
}
